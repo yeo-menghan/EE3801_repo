{
 "cells": [
  {
   "cell_type": "code",
   "execution_count": 33,
   "metadata": {},
   "outputs": [
    {
     "name": "stdout",
     "output_type": "stream",
     "text": [
      "Question 1a\n",
      "After spliting the date and time for pick and dropoff, here's the resultant df:\n",
      "\n",
      "pickup_date pickup_time dropoff_date dropoff_time  passengers   distance       fare        tip      tolls      total      color     payment           pickup_zone          dropoff_zone pickup_borough dropoff_borough\n",
      " 2019-03-23    20:21:09   2019-03-23     20:27:24           1       1.60        7.0       2.15        0.0      12.95     yellow credit card       Lenox Hill West   UN/Turtle Bay South      Manhattan       Manhattan\n",
      " 2019-03-04    16:11:55   2019-03-04     16:19:00           1       0.79        5.0       0.00        0.0       9.30     yellow        cash Upper West Side South Upper West Side South      Manhattan       Manhattan\n",
      " 2019-03-27    17:53:01   2019-03-27     18:00:25           1       1.37        7.5       2.36        0.0      14.16     yellow credit card         Alphabet City          West Village      Manhattan       Manhattan\n",
      " 2019-03-10    01:23:59   2019-03-10     01:49:51           1       7.70       27.0       6.15        0.0      36.95     yellow credit card             Hudson Sq        Yorkville West      Manhattan       Manhattan\n",
      " 2019-03-30    13:27:42   2019-03-30     13:37:14           3       2.16        9.0       1.10        0.0      13.40     yellow credit card          Midtown East        Yorkville West      Manhattan       Manhattan\n"
     ]
    }
   ],
   "source": [
    "import pandas as pd\n",
    "from datetime import datetime\n",
    "\n",
    "df = pd.read_csv('taxis.csv', encoding='unicode_escape')\n",
    "\n",
    "# Question 1a\n",
    "print(\"Question 1a\")\n",
    "\n",
    "# Split the 'pickup' column into date and time\n",
    "pickup_date = df['pickup'].str.split(' ').str[0]\n",
    "pickup_time = df['pickup'].str.split(' ').str[1]\n",
    "\n",
    "# Split the 'dropoff' column into date and time\n",
    "dropoff_date = df['dropoff'].str.split(' ').str[0]\n",
    "dropoff_time = df['dropoff'].str.split(' ').str[1]\n",
    "\n",
    "# Insert these new columns to the leftmost side of the dataframe\n",
    "df.insert(0, 'pickup_date', pickup_date)\n",
    "df.insert(1, 'pickup_time', pickup_time)\n",
    "df.insert(2, 'dropoff_date', dropoff_date)\n",
    "df.insert(3, 'dropoff_time', dropoff_time)\n",
    "\n",
    "\n",
    "# Print top 5 rows, dropping pickup and dropoff temporarily\n",
    "print(\"After spliting the date and time for pick and dropoff, here's the resultant df:\\n\")\n",
    "print(df.drop(columns=['pickup', 'dropoff']).head(5).to_string(header=True, index=False, col_space=10))"
   ]
  },
  {
   "cell_type": "code",
   "execution_count": 35,
   "metadata": {},
   "outputs": [
    {
     "name": "stdout",
     "output_type": "stream",
     "text": [
      "Question 1b\n",
      "The aggregated results of fare, passengers, distance and travel_time for each colour is:\n",
      "      fare  passengers   distance               travel_time\n",
      "  13788.15        1226    3345.95 0 days 03:03:37.766666667\n",
      "  70426.72        8676   16111.41 0 days 02:34:53.316666667\n"
     ]
    }
   ],
   "source": [
    "# Question 1b - compute for the green and yellow\n",
    "print(\"Question 1b\")\n",
    "# Convert pickup_time and dropoff_time to datetime\n",
    "df['pickup_time'] = pd.to_datetime(df['pickup_time'], format='%H:%M:%S')\n",
    "df['dropoff_time'] = pd.to_datetime(df['dropoff_time'], format='%H:%M:%S')\n",
    "\n",
    "# Calculate the time of travel for each row and add it as a new column\n",
    "df['travel_time'] = (df['dropoff_time'] - df['pickup_time']).dt.total_seconds() / 60  # This gives travel time in minutes\n",
    "\n",
    "# convert back to time\n",
    "df['pickup_time'] = pd.to_datetime(df['pickup_time'], format='%H:%M:%S').dt.time\n",
    "df['dropoff_time'] = pd.to_datetime(df['dropoff_time'], format='%H:%M:%S').dt.time\n",
    "\n",
    "# Group by car_type and compute the totals\n",
    "color_agg_results = df.groupby('color').agg({\n",
    "    'fare': 'sum',\n",
    "    'passengers': 'sum',\n",
    "    'distance': 'sum',\n",
    "    'travel_time': 'sum'\n",
    "})\n",
    "\n",
    "# Convert the total travel time from minutes to \"Days Hours:Minutes:Seconds\"\n",
    "color_agg_results['travel_time'] = pd.to_timedelta(color_agg_results['travel_time'], unit='s')\n",
    "color_agg_results['travel_time'] = color_agg_results['travel_time'].astype(str)\n",
    "\n",
    "print(\"The aggregated results of fare, passengers, distance and travel_time for each colour is:\")\n",
    "print(color_agg_results.to_string(header=True, index=False, col_space=10))\n"
   ]
  },
  {
   "cell_type": "code",
   "execution_count": 36,
   "metadata": {},
   "outputs": [
    {
     "name": "stdout",
     "output_type": "stream",
     "text": [
      "Question 2\n",
      "     color   distance              pickup pickup_date pickup_time             dropoff dropoff_date dropoff_time       fare\n",
      "     green      16.01 2019-03-10 00:59:49  2019-03-10    00:59:49 2019-03-10 01:36:25   2019-03-10     01:36:25       47.0\n",
      "     green       4.71 2019-03-15 06:42:17  2019-03-15    06:42:17 2019-03-15 06:54:38   2019-03-15     06:54:38       15.0\n",
      "     green       6.66 2019-03-20 12:04:33  2019-03-20    12:04:33 2019-03-20 12:28:07   2019-03-20     12:28:07       20.0\n",
      "     green       8.80 2019-03-25 10:10:11  2019-03-25    10:10:11 2019-03-25 10:46:25   2019-03-25     10:46:25       31.0\n",
      "     green      10.32 2019-03-30 09:25:32  2019-03-30    09:25:32 2019-03-30 09:54:33   2019-03-30     09:54:33       31.0\n",
      "    yellow      11.52 2019-03-10 00:13:12  2019-03-10    00:13:12 2019-03-10 00:33:09   2019-03-10     00:33:09       32.5\n",
      "    yellow      15.64 2019-03-15 16:45:55  2019-03-15    16:45:55 2019-03-15 17:46:47   2019-03-15     17:46:47       50.0\n",
      "    yellow      17.01 2019-03-20 17:22:33  2019-03-20    17:22:33 2019-03-20 18:07:19   2019-03-20     18:07:19       52.0\n",
      "    yellow      12.12 2019-03-25 05:33:43  2019-03-25    05:33:43 2019-03-25 05:58:38   2019-03-25     05:58:38       35.5\n",
      "    yellow      17.14 2019-03-30 14:56:08  2019-03-30    14:56:08 2019-03-30 15:49:32   2019-03-30     15:49:32       52.0\n"
     ]
    }
   ],
   "source": [
    "# Question 2\n",
    "print(\"Question 2\")\n",
    "# Filter for cash payments and specific pickup dates\n",
    "cash_df = df[(df['payment'] == 'cash') & pd.to_datetime(df['pickup_date']).dt.day.isin([10, 15, 20, 25, 30])]\n",
    "# print(cash_df)\n",
    "\n",
    "# Function to get row with max distance for each group\n",
    "def get_max_distance_trip(group):\n",
    "    idx = group['distance'].idxmax() \n",
    "    if pd.notna(idx):  # checks if idx is not NaN\n",
    "        return group.loc[idx]\n",
    "    else:\n",
    "        return pd.Series({'distance': 0})\n",
    "\n",
    "# Group by car color and pickup date, then apply the function\n",
    "max_distance_df = cash_df.groupby(['color', 'pickup_date']).apply(get_max_distance_trip)\n",
    "\n",
    "# Filter and rearrange columns\n",
    "GY_cash = max_distance_df[['color', 'distance', 'pickup', 'pickup_date', 'pickup_time', 'dropoff', 'dropoff_date', 'dropoff_time', 'fare']]\n",
    "GY_cash.columns = ['color', 'distance', 'pickup', 'pickup_date', 'pickup_time', 'dropoff', 'dropoff_date', 'dropoff_time', 'fare']\n",
    "\n",
    "GY_cash = GY_cash.reset_index(drop=True)\n",
    "\n",
    "print(GY_cash.to_string(header=True, index=False, col_space=10))"
   ]
  },
  {
   "cell_type": "code",
   "execution_count": 37,
   "metadata": {},
   "outputs": [
    {
     "name": "stdout",
     "output_type": "stream",
     "text": [
      "Question 3\n",
      "     color   distance              pickup pickup_date pickup_time             dropoff dropoff_date dropoff_time       fare\n",
      "     green      16.01 2019-03-10 00:59:49  2019-03-10    00:59:49 2019-03-10 01:36:25   2019-03-10     01:36:25       47.0\n",
      "    yellow      15.64 2019-03-15 16:45:55  2019-03-15    16:45:55 2019-03-15 17:46:47   2019-03-15     17:46:47       50.0\n",
      "    yellow      17.01 2019-03-20 17:22:33  2019-03-20    17:22:33 2019-03-20 18:07:19   2019-03-20     18:07:19       52.0\n",
      "    yellow      12.12 2019-03-25 05:33:43  2019-03-25    05:33:43 2019-03-25 05:58:38   2019-03-25     05:58:38       35.5\n",
      "    yellow      17.14 2019-03-30 14:56:08  2019-03-30    14:56:08 2019-03-30 15:49:32   2019-03-30     15:49:32       52.0\n"
     ]
    }
   ],
   "source": [
    "# Question 3\n",
    "print(\"Question 3\")\n",
    "\n",
    "# Group by 'pickup_date' and find the index with the maximum 'distance'\n",
    "idx = GY_cash.groupby('pickup_date')['distance'].idxmax()\n",
    "\n",
    "# Create a new dataframe with only the rows with the maximum 'distance' for each 'pickup_date'\n",
    "GY_maxDist = GY_cash.loc[idx]\n",
    "\n",
    "# Display the new DataFrame\n",
    "print(GY_maxDist.to_string(header=True, index=False, col_space=10))"
   ]
  },
  {
   "cell_type": "code",
   "execution_count": 38,
   "metadata": {},
   "outputs": [
    {
     "name": "stdout",
     "output_type": "stream",
     "text": [
      "Question 4\n",
      "    color  distance               pickup pickup_date pickup_time  \\\n",
      "0   green     16.01  2019-03-10 00:59:49  2019-03-10    00:59:49   \n",
      "6  yellow     15.64  2019-03-15 16:45:55  2019-03-15    16:45:55   \n",
      "7  yellow     17.01  2019-03-20 17:22:33  2019-03-20    17:22:33   \n",
      "8  yellow     12.12  2019-03-25 05:33:43  2019-03-25    05:33:43   \n",
      "9  yellow     17.14  2019-03-30 14:56:08  2019-03-30    14:56:08   \n",
      "\n",
      "               dropoff dropoff_date dropoff_time  fare     speed  \n",
      "0  2019-03-10 01:36:25   2019-03-10     01:36:25  47.0  7.290528  \n",
      "6  2019-03-15 17:46:47   2019-03-15     17:46:47  50.0  4.282585  \n",
      "7  2019-03-20 18:07:19   2019-03-20     18:07:19  52.0  6.332837  \n",
      "8  2019-03-25 05:58:38   2019-03-25     05:58:38  35.5  8.107023  \n",
      "9  2019-03-30 15:49:32   2019-03-30     15:49:32  52.0  5.349563  \n"
     ]
    }
   ],
   "source": [
    "# Question 4\n",
    "print(\"Question 4\")\n",
    "\n",
    "# Function to calculate speed\n",
    "def calculate_speed(row):\n",
    "    # Convert date and time columns to datetime objects\n",
    "    pickup_datetime = pd.to_datetime(row['pickup_date'] + ' ' + row['pickup_time'].strftime('%H:%M:%S'))\n",
    "    dropoff_datetime = pd.to_datetime(row['dropoff_date'] + ' ' + row['dropoff_time'].strftime('%H:%M:%S'))\n",
    "    \n",
    "    # Convert distance from kilometers to meters\n",
    "    distance_m = row['distance'] * 1000\n",
    "    \n",
    "    # Calculate time difference in seconds\n",
    "    time_difference = (dropoff_datetime - pickup_datetime).total_seconds()\n",
    "    \n",
    "    # Handle cases where time_difference is zero to avoid division by zero error\n",
    "    if time_difference == 0:\n",
    "        return 0\n",
    "    \n",
    "    # Calculate speed in meters per second\n",
    "    speed = distance_m / time_difference\n",
    "    \n",
    "    return speed\n",
    "\n",
    "# Applying the function to calculate speed\n",
    "GY_maxDist['speed'] = GY_maxDist.apply(calculate_speed, axis=1)\n",
    "\n",
    "# Display the updated DataFrame\n",
    "print(GY_maxDist)\n"
   ]
  },
  {
   "cell_type": "code",
   "execution_count": 49,
   "metadata": {},
   "outputs": [
    {
     "name": "stdout",
     "output_type": "stream",
     "text": [
      "Question 5\n",
      "color\n",
      "green     3.357360\n",
      "yellow    4.203138\n",
      "Name: speed, dtype: float64\n"
     ]
    }
   ],
   "source": [
    "# Question 5\n",
    "print(\"Question 5\")\n",
    "\n",
    "# Step 1: Convert 'pickup_date' to datetime objects\n",
    "df['pickup_date'] = pd.to_datetime(df['pickup_date'])\n",
    "\n",
    "# Step 2: Filter the dataset for the specified conditions\n",
    "filtered_df = df[\n",
    "    (df['pickup_borough'] == 'Brooklyn') & \n",
    "    (df['dropoff_borough'] == 'Manhattan') & \n",
    "    (df['pickup_date'] >= '2019-03-10') & \n",
    "    (df['pickup_date'] <= '2019-03-25')\n",
    "]\n",
    "\n",
    "filtered_df = filtered_df.copy()  # Create a new copy to avoid SettingWithCopyWarning\n",
    "\n",
    "# Step 3: Create datetime objects for 'pickup_time' and 'dropoff_time'\n",
    "filtered_df['pickup_datetime'] = pd.to_datetime(filtered_df['pickup_date'].astype(str) + ' ' + filtered_df['pickup_time'].astype(str))\n",
    "filtered_df['dropoff_datetime'] = pd.to_datetime(filtered_df['dropoff_date'].astype(str) + ' ' + filtered_df['dropoff_time'].astype(str))\n",
    "\n",
    "# Compute the actual speed for each trip\n",
    "def calculate_speed(row):\n",
    "    distance_m = row['distance'] * 1000  # Convert distance from kilometers to meters\n",
    "    time_difference = (row['dropoff_datetime'] - row['pickup_datetime']).total_seconds()\n",
    "    if time_difference == 0:\n",
    "        return 0\n",
    "    speed = distance_m / time_difference\n",
    "    return speed\n",
    "\n",
    "filtered_df['speed'] = filtered_df.apply(calculate_speed, axis=1)\n",
    "\n",
    "# Step 4: Calculate the mean speed for green and yellow cars\n",
    "mean_speeds = filtered_df.groupby('color')['speed'].mean()\n",
    "\n",
    "# Print the results\n",
    "print(mean_speeds)\n"
   ]
  },
  {
   "cell_type": "code",
   "execution_count": 52,
   "metadata": {},
   "outputs": [
    {
     "name": "stdout",
     "output_type": "stream",
     "text": [
      "Question 6\n",
      "The color with the most pickups between 2:30 pm and 4:00 pm on March 17th was: yellow\n"
     ]
    }
   ],
   "source": [
    "# Question 6\n",
    "print(\"Question 6\")\n",
    "\n",
    "# Convert 'pickup_date' to datetime type and 'pickup_time' to time type\n",
    "df['pickup_date'] = pd.to_datetime(df['pickup_date'])\n",
    "df['pickup_time'] = pd.to_datetime(df['pickup_time'], format='%H:%M:%S').dt.time\n",
    "\n",
    "# Define the start and end time\n",
    "start_time = pd.to_datetime('14:30:00', format='%H:%M:%S').time()\n",
    "end_time = pd.to_datetime('16:00:00', format='%H:%M:%S').time()\n",
    "\n",
    "# Filter the dataframe for the specified date and time range\n",
    "filtered_df = df[\n",
    "    (df['pickup_date'].dt.date == pd.to_datetime('2019-03-17').date()) & \n",
    "    (df['pickup_time'] >= start_time) & \n",
    "    (df['pickup_time'] <= end_time)\n",
    "]\n",
    "\n",
    "# Group by 'color' and count the number of pickups for each color\n",
    "color_pickup_counts = filtered_df.groupby('color')['pickup_time'].count()\n",
    "\n",
    "# Find the color with the maximum number of pickups\n",
    "most_pickups_color = color_pickup_counts.idxmax()\n",
    "\n",
    "print(f\"The color with the most pickups between 2:30 pm and 4:00 pm on March 17th was: {most_pickups_color}\")\n"
   ]
  },
  {
   "cell_type": "code",
   "execution_count": null,
   "metadata": {},
   "outputs": [],
   "source": [
    "# Question 7\n",
    "print(\"Question 7\")\n"
   ]
  }
 ],
 "metadata": {
  "kernelspec": {
   "display_name": "base",
   "language": "python",
   "name": "python3"
  },
  "language_info": {
   "codemirror_mode": {
    "name": "ipython",
    "version": 3
   },
   "file_extension": ".py",
   "mimetype": "text/x-python",
   "name": "python",
   "nbconvert_exporter": "python",
   "pygments_lexer": "ipython3",
   "version": "3.11.4"
  },
  "orig_nbformat": 4
 },
 "nbformat": 4,
 "nbformat_minor": 2
}
