{
 "cells": [
  {
   "cell_type": "code",
   "execution_count": 2,
   "metadata": {},
   "outputs": [
    {
     "name": "stdout",
     "output_type": "stream",
     "text": [
      "Question 1a\n",
      "After spliting the date and time for pick and dropoff, here's the resultant df:\n",
      "\n",
      "pickup_date pickup_time dropoff_date dropoff_time  passengers   distance       fare        tip      tolls      total      color     payment           pickup_zone          dropoff_zone pickup_borough dropoff_borough\n",
      " 2019-03-23    20:21:09   2019-03-23     20:27:24           1       1.60        7.0       2.15        0.0      12.95     yellow credit card       Lenox Hill West   UN/Turtle Bay South      Manhattan       Manhattan\n",
      " 2019-03-04    16:11:55   2019-03-04     16:19:00           1       0.79        5.0       0.00        0.0       9.30     yellow        cash Upper West Side South Upper West Side South      Manhattan       Manhattan\n",
      " 2019-03-27    17:53:01   2019-03-27     18:00:25           1       1.37        7.5       2.36        0.0      14.16     yellow credit card         Alphabet City          West Village      Manhattan       Manhattan\n",
      " 2019-03-10    01:23:59   2019-03-10     01:49:51           1       7.70       27.0       6.15        0.0      36.95     yellow credit card             Hudson Sq        Yorkville West      Manhattan       Manhattan\n",
      " 2019-03-30    13:27:42   2019-03-30     13:37:14           3       2.16        9.0       1.10        0.0      13.40     yellow credit card          Midtown East        Yorkville West      Manhattan       Manhattan\n"
     ]
    }
   ],
   "source": [
    "import pandas as pd\n",
    "\n",
    "df = pd.read_csv('taxis.csv', encoding='unicode_escape')\n",
    "\n",
    "# Question 1a\n",
    "print(\"Question 1a\")\n",
    "\n",
    "# Split the 'pickup' column into date and time\n",
    "pickup_date = df['pickup'].str.split(' ').str[0]\n",
    "pickup_time = df['pickup'].str.split(' ').str[1]\n",
    "\n",
    "# Split the 'dropoff' column into date and time\n",
    "dropoff_date = df['dropoff'].str.split(' ').str[0]\n",
    "dropoff_time = df['dropoff'].str.split(' ').str[1]\n",
    "\n",
    "# Insert these new columns to the leftmost side of the dataframe\n",
    "df.insert(0, 'pickup_date', pickup_date)\n",
    "df.insert(1, 'pickup_time', pickup_time)\n",
    "df.insert(2, 'dropoff_date', dropoff_date)\n",
    "df.insert(3, 'dropoff_time', dropoff_time)\n",
    "\n",
    "\n",
    "# Print top 5 rows, dropping pickup and dropoff temporarily\n",
    "print(\"After spliting the date and time for pick and dropoff, here's the resultant df:\\n\")\n",
    "print(df.drop(columns=['pickup', 'dropoff']).head(5).to_string(header=True, index=False, col_space=10))"
   ]
  },
  {
   "cell_type": "code",
   "execution_count": 15,
   "metadata": {},
   "outputs": [
    {
     "name": "stdout",
     "output_type": "stream",
     "text": [
      "Question 1b\n",
      "The aggregated results of fare, passengers, distance and travel_time for each colour is:\n",
      "      fare  passengers   distance               travel_time\n",
      "  13788.15        1226    3345.95 0 days 03:03:37.766666667\n",
      "  70426.72        8676   16111.41 0 days 02:34:53.316666667\n"
     ]
    }
   ],
   "source": [
    "# Question 1b - compute for the green and yellow\n",
    "print(\"Question 1b\")\n",
    "# Convert pickup_time and dropoff_time to datetime\n",
    "df['pickup_time'] = pd.to_datetime(df['pickup_time'], format='%H:%M:%S')\n",
    "df['dropoff_time'] = pd.to_datetime(df['dropoff_time'], format='%H:%M:%S')\n",
    "\n",
    "# Calculate the time of travel for each row and add it as a new column\n",
    "df['travel_time'] = (df['dropoff_time'] - df['pickup_time']).dt.total_seconds() / 60  # This gives travel time in minutes\n",
    "\n",
    "# convert back to time\n",
    "df['pickup_time'] = pd.to_datetime(df['pickup_time'], format='%H:%M:%S').dt.time\n",
    "df['dropoff_time'] = pd.to_datetime(df['dropoff_time'], format='%H:%M:%S').dt.time\n",
    "\n",
    "# Group by car_type and compute the totals\n",
    "color_agg_results = df.groupby('color').agg({\n",
    "    'fare': 'sum',\n",
    "    'passengers': 'sum',\n",
    "    'distance': 'sum',\n",
    "    'travel_time': 'sum'\n",
    "})\n",
    "\n",
    "# Convert the total travel time from minutes to \"Days Hours:Minutes:Seconds\"\n",
    "color_agg_results['travel_time'] = pd.to_timedelta(color_agg_results['travel_time'], unit='s')\n",
    "color_agg_results['travel_time'] = color_agg_results['travel_time'].astype(str)\n",
    "\n",
    "print(\"The aggregated results of fare, passengers, distance and travel_time for each colour is:\")\n",
    "print(color_agg_results.to_string(header=True, index=False, col_space=10))\n"
   ]
  },
  {
   "cell_type": "code",
   "execution_count": 16,
   "metadata": {},
   "outputs": [
    {
     "name": "stdout",
     "output_type": "stream",
     "text": [
      "     color   distance              pickup pickup_date pickup_time             dropoff dropoff_time       fare\n",
      "     green      16.01 2019-03-10 00:59:49  2019-03-10    00:59:49 2019-03-10 01:36:25     01:36:25       47.0\n",
      "     green       4.71 2019-03-15 06:42:17  2019-03-15    06:42:17 2019-03-15 06:54:38     06:54:38       15.0\n",
      "     green       6.66 2019-03-20 12:04:33  2019-03-20    12:04:33 2019-03-20 12:28:07     12:28:07       20.0\n",
      "     green       8.80 2019-03-25 10:10:11  2019-03-25    10:10:11 2019-03-25 10:46:25     10:46:25       31.0\n",
      "     green      10.32 2019-03-30 09:25:32  2019-03-30    09:25:32 2019-03-30 09:54:33     09:54:33       31.0\n",
      "    yellow      11.52 2019-03-10 00:13:12  2019-03-10    00:13:12 2019-03-10 00:33:09     00:33:09       32.5\n",
      "    yellow      15.64 2019-03-15 16:45:55  2019-03-15    16:45:55 2019-03-15 17:46:47     17:46:47       50.0\n",
      "    yellow      17.01 2019-03-20 17:22:33  2019-03-20    17:22:33 2019-03-20 18:07:19     18:07:19       52.0\n",
      "    yellow      12.12 2019-03-25 05:33:43  2019-03-25    05:33:43 2019-03-25 05:58:38     05:58:38       35.5\n",
      "    yellow      17.14 2019-03-30 14:56:08  2019-03-30    14:56:08 2019-03-30 15:49:32     15:49:32       52.0\n"
     ]
    }
   ],
   "source": [
    "# Question 2\n",
    "from datetime import datetime\n",
    "# Filter for cash payments and specific pickup dates\n",
    "cash_df = df[(df['payment'] == 'cash') & pd.to_datetime(df['pickup_date']).dt.day.isin([10, 15, 20, 25, 30])]\n",
    "# print(cash_df)\n",
    "\n",
    "# Function to get row with max distance for each group\n",
    "def get_max_distance_trip(group):\n",
    "    idx = group['distance'].idxmax() \n",
    "    if pd.notna(idx):  # checks if idx is not NaN\n",
    "        return group.loc[idx]\n",
    "    else:\n",
    "        return pd.Series({'distance': 0})\n",
    "\n",
    "# Group by car color and pickup date, then apply the function\n",
    "max_distance_df = cash_df.groupby(['color', 'pickup_date']).apply(get_max_distance_trip)\n",
    "\n",
    "# Filter and rearrange columns\n",
    "GY_cash = max_distance_df[['color', 'distance', 'pickup', 'pickup_date', 'pickup_time', 'dropoff', 'dropoff_time', 'fare']]\n",
    "GY_cash.columns = ['color', 'distance', 'pickup', 'pickup_date', 'pickup_time', 'dropoff', 'dropoff_time', 'fare']\n",
    "\n",
    "GY_cash = GY_cash.reset_index(drop=True)\n",
    "\n",
    "print(GY_cash.to_string(header=True, index=False, col_space=10))"
   ]
  },
  {
   "cell_type": "code",
   "execution_count": 17,
   "metadata": {},
   "outputs": [
    {
     "name": "stdout",
     "output_type": "stream",
     "text": [
      "Question 3\n",
      "     color   distance              pickup pickup_date pickup_time             dropoff dropoff_time       fare\n",
      "     green      16.01 2019-03-10 00:59:49  2019-03-10    00:59:49 2019-03-10 01:36:25     01:36:25       47.0\n",
      "    yellow      15.64 2019-03-15 16:45:55  2019-03-15    16:45:55 2019-03-15 17:46:47     17:46:47       50.0\n",
      "    yellow      17.01 2019-03-20 17:22:33  2019-03-20    17:22:33 2019-03-20 18:07:19     18:07:19       52.0\n",
      "    yellow      12.12 2019-03-25 05:33:43  2019-03-25    05:33:43 2019-03-25 05:58:38     05:58:38       35.5\n",
      "    yellow      17.14 2019-03-30 14:56:08  2019-03-30    14:56:08 2019-03-30 15:49:32     15:49:32       52.0\n"
     ]
    }
   ],
   "source": [
    "# Question 3\n",
    "print(\"Question 3\")\n",
    "\n",
    "# Group by 'pickup_date' and find the index with the maximum 'distance'\n",
    "idx = GY_cash.groupby('pickup_date')['distance'].idxmax()\n",
    "\n",
    "# Create a new dataframe with only the rows with the maximum 'distance' for each 'pickup_date'\n",
    "GY_maxDist = GY_cash.loc[idx]\n",
    "\n",
    "# Display the new DataFrame\n",
    "print(GY_maxDist.to_string(header=True, index=False, col_space=10))"
   ]
  }
 ],
 "metadata": {
  "kernelspec": {
   "display_name": "base",
   "language": "python",
   "name": "python3"
  },
  "language_info": {
   "codemirror_mode": {
    "name": "ipython",
    "version": 3
   },
   "file_extension": ".py",
   "mimetype": "text/x-python",
   "name": "python",
   "nbconvert_exporter": "python",
   "pygments_lexer": "ipython3",
   "version": "3.11.4"
  },
  "orig_nbformat": 4
 },
 "nbformat": 4,
 "nbformat_minor": 2
}
