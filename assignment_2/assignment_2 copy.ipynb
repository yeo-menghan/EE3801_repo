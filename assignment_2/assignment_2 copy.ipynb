{
 "cells": [
  {
   "cell_type": "code",
   "execution_count": 50,
   "metadata": {},
   "outputs": [
    {
     "name": "stdout",
     "output_type": "stream",
     "text": [
      "Question 1a\n",
      "After spliting the date and time for pick and dropoff, here's the resultant df:\n",
      "\n",
      "pickup_date pickup_time dropoff_date dropoff_time  passengers   distance       fare        tip      tolls      total      color     payment           pickup_zone          dropoff_zone pickup_borough dropoff_borough\n",
      " 2019-03-23    20:21:09   2019-03-23     20:27:24           1       1.60        7.0       2.15        0.0      12.95     yellow credit card       Lenox Hill West   UN/Turtle Bay South      Manhattan       Manhattan\n",
      " 2019-03-04    16:11:55   2019-03-04     16:19:00           1       0.79        5.0       0.00        0.0       9.30     yellow        cash Upper West Side South Upper West Side South      Manhattan       Manhattan\n",
      " 2019-03-27    17:53:01   2019-03-27     18:00:25           1       1.37        7.5       2.36        0.0      14.16     yellow credit card         Alphabet City          West Village      Manhattan       Manhattan\n",
      " 2019-03-10    01:23:59   2019-03-10     01:49:51           1       7.70       27.0       6.15        0.0      36.95     yellow credit card             Hudson Sq        Yorkville West      Manhattan       Manhattan\n",
      " 2019-03-30    13:27:42   2019-03-30     13:37:14           3       2.16        9.0       1.10        0.0      13.40     yellow credit card          Midtown East        Yorkville West      Manhattan       Manhattan\n"
     ]
    }
   ],
   "source": [
    "import pandas as pd\n",
    "\n",
    "df = pd.read_csv('taxis.csv', encoding='unicode_escape')\n",
    "\n",
    "# Question 1a\n",
    "print(\"Question 1a\")\n",
    "\n",
    "# Split the 'pickup' column into date and time\n",
    "pickup_date = df['pickup'].str.split(' ').str[0]\n",
    "pickup_time = df['pickup'].str.split(' ').str[1]\n",
    "\n",
    "# Split the 'dropoff' column into date and time\n",
    "dropoff_date = df['dropoff'].str.split(' ').str[0]\n",
    "dropoff_time = df['dropoff'].str.split(' ').str[1]\n",
    "\n",
    "# Insert these new columns to the leftmost side of the dataframe\n",
    "df.insert(0, 'pickup_date', pickup_date)\n",
    "df.insert(1, 'pickup_time', pickup_time)\n",
    "df.insert(2, 'dropoff_date', dropoff_date)\n",
    "df.insert(3, 'dropoff_time', dropoff_time)\n",
    "\n",
    "# Print top 5 rows, dropping pickup and dropoff temporarily\n",
    "print(\"After spliting the date and time for pick and dropoff, here's the resultant df:\\n\")\n",
    "print(df.drop(columns=['pickup', 'dropoff']).head(5).to_string(header=True, index=False, col_space=10))"
   ]
  },
  {
   "cell_type": "code",
   "execution_count": 58,
   "metadata": {},
   "outputs": [
    {
     "name": "stdout",
     "output_type": "stream",
     "text": [
      "Question 1b\n",
      "The aggregated results of fare, passengers, distance and travel_time for each colour is:\n",
      "      fare  passengers   distance               travel_time\n",
      "  13788.15        1226    3345.95 7 days 15:37:46.000000020\n",
      "  70426.72        8676   16111.41 6 days 10:53:19.000000020\n"
     ]
    }
   ],
   "source": [
    "# Question 1b - compute for the green and yellow\n",
    "print(\"Question 1b\")\n",
    "# TODO: check if it's calculation in minutes\n",
    "# Convert pickup_time and dropoff_time to datetime\n",
    "df['pickup_time'] = pd.to_datetime(df['pickup_time'], format='%H:%M:%S')\n",
    "df['dropoff_time'] = pd.to_datetime(df['dropoff_time'], format='%H:%M:%S')\n",
    "\n",
    "# Calculate the time of travel for each row and add it as a new column\n",
    "df['travel_time'] = (df['dropoff_time'] - df['pickup_time']).dt.total_seconds() / 60  # This gives travel time in minutes\n",
    "\n",
    "# convert back to dt.time\n",
    "df['pickup_time'] = pd.to_datetime(df['pickup_time'], format='%H:%M:%S').dt.time\n",
    "df['dropoff_time'] = pd.to_datetime(df['dropoff_time'], format='%H:%M:%S').dt.time\n",
    "\n",
    "# Group by car_type and compute the totals\n",
    "color_agg_results = df.groupby('color').agg({\n",
    "    'fare': 'sum',\n",
    "    'passengers': 'sum',\n",
    "    'distance': 'sum',\n",
    "    'travel_time': 'sum'\n",
    "})\n",
    "\n",
    "color_agg_results['travel_time'] = pd.to_timedelta(color_agg_results['travel_time'], unit='m')\n",
    "color_agg_results['travel_time'] = color_agg_results['travel_time'].astype(str)\n",
    "\n",
    "print(\"The aggregated results of fare, passengers, distance and travel_time for each colour is:\")\n",
    "print(color_agg_results.to_string(header=True, index=False, col_space=10))\n"
   ]
  }
 ],
 "metadata": {
  "kernelspec": {
   "display_name": "base",
   "language": "python",
   "name": "python3"
  },
  "language_info": {
   "codemirror_mode": {
    "name": "ipython",
    "version": 3
   },
   "file_extension": ".py",
   "mimetype": "text/x-python",
   "name": "python",
   "nbconvert_exporter": "python",
   "pygments_lexer": "ipython3",
   "version": "3.11.4"
  },
  "orig_nbformat": 4
 },
 "nbformat": 4,
 "nbformat_minor": 2
}
