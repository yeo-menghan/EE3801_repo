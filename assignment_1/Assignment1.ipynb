{
 "cells": [
  {
   "cell_type": "code",
   "execution_count": 2,
   "metadata": {},
   "outputs": [
    {
     "name": "stdout",
     "output_type": "stream",
     "text": [
      "Question 1a\n",
      "        ID       Mean     Median        Sum\n",
      "         0      50.37      36.75      503.7\n",
      "         1      51.08      37.90      510.8\n",
      "         2      51.00      36.45      510.0\n",
      "        47      48.22      36.05      482.2\n",
      "        48      47.79      34.30      477.9\n",
      "        49      45.13      34.20      451.3\n",
      "\n"
     ]
    }
   ],
   "source": [
    "import pandas as pd\n",
    "\n",
    "bodyfat2 = pd.read_csv('bodyfat2.csv')\n",
    "bodyfat3 = pd.read_csv('bodyfat3.csv')\n",
    "\n",
    "# Question 1a\n",
    "print('Question 1a')\n",
    "\n",
    "# Select columns from neck onwards till wrist (fat present in the body parts)\n",
    "bodyfat2_compiled = bodyfat2.iloc[:, 5:15]\n",
    "\n",
    "# Compute the mean, median, and sum, for each individual\n",
    "bodyfat2_compiled_means = bodyfat2_compiled.mean(1) # 1 for columns\n",
    "bodyfat2_compiled_medians = bodyfat2_compiled.median(1)\n",
    "bodyfat2_compiled_sums = bodyfat2_compiled.sum(1)\n",
    "\n",
    "# Create DataFrames for the top and bottom individuals\n",
    "top_df = pd.DataFrame({\n",
    "    'ID': [i for i in range(3)],\n",
    "    'Mean': bodyfat2_compiled_means.head(3),\n",
    "    'Median': bodyfat2_compiled_medians.head(3),\n",
    "    'Sum': bodyfat2_compiled_sums.head(3)\n",
    "})\n",
    "\n",
    "bottom_df = pd.DataFrame({\n",
    "    'ID': [i for i in range(47, 50)],\n",
    "    'Mean': bodyfat2_compiled_means.tail(3),\n",
    "    'Median': bodyfat2_compiled_medians.tail(3),\n",
    "    'Sum': bodyfat2_compiled_sums.tail(3)\n",
    "})\n",
    "\n",
    "# Concatenate the DataFrames to fit within the 3 columns\n",
    "bodyfat2_top_bottom_3 = pd.concat([top_df, bottom_df], ignore_index=True)\n",
    "\n",
    "print(bodyfat2_top_bottom_3.to_string(header=True, index=False, col_space=10))\n",
    "print()"
   ]
  },
  {
   "cell_type": "code",
   "execution_count": 8,
   "metadata": {},
   "outputs": [
    {
     "name": "stdout",
     "output_type": "stream",
     "text": [
      "Question 1b\n",
      "   feature       mean     median        sum\n",
      "      neck     38.016      38.10     1900.8\n",
      "     chest    101.128     101.10     5056.4\n",
      "   abdomen     92.080      89.15     4604.0\n",
      "       hip    102.058     100.45     5102.9\n",
      "     thigh     61.506      61.60     3075.3\n",
      "      knee     38.828      38.70     1941.4\n",
      "     ankle     23.586      23.10     1179.3\n",
      "    biceps     32.798      32.45     1639.9\n",
      "   forearm     28.852      29.00     1442.6\n",
      "     wrist     18.118      18.20      905.9\n",
      "\n"
     ]
    }
   ],
   "source": [
    "# Question 1b\n",
    "print('Question 1b')\n",
    "# Compute and store as series\n",
    "bodyfat2_means = bodyfat2.mean()\n",
    "bodyfat2_medians = bodyfat2.median()\n",
    "bodyfat2_sums = bodyfat2.sum()\n",
    "\n",
    "# Create data frames from the Series\n",
    "means_df = pd.DataFrame({'feature': bodyfat2.columns, 'mean': bodyfat2_means})\n",
    "medians_df = pd.DataFrame({'feature': bodyfat2.columns, 'median': bodyfat2_medians})\n",
    "sums_df = pd.DataFrame({'feature': bodyfat2.columns, 'sum': bodyfat2_sums})\n",
    "\n",
    "# Merge the data frames based on the 'feature' column\n",
    "result_df = pd.merge(means_df, medians_df, on='feature')\n",
    "result_df = pd.merge(result_df, sums_df, on='feature')\n",
    "\n",
    "# Exclude unwanted features\n",
    "excluded_features = ['density', 'bodyfat', 'age', 'weight', 'height']\n",
    "result_df = result_df.query('feature not in @excluded_features')\n",
    "\n",
    "print(result_df.to_string(header=True, index=False, col_space=10))\n",
    "print()"
   ]
  },
  {
   "cell_type": "code",
   "execution_count": 4,
   "metadata": {},
   "outputs": [
    {
     "name": "stdout",
     "output_type": "stream",
     "text": [
      "Question 1c\n",
      " Body Part  Arithmetic Mean  Geometric Mean  Harmonic Mean\n",
      "      neck           38.016       37.883069      37.755200\n",
      "     chest          101.128      100.606458     100.106007\n",
      "   abdomen           92.080       91.065145      90.135062\n",
      "       hip          102.058      101.577150     101.131966\n",
      "     thigh           61.506       61.161311      60.827484\n",
      "      knee           38.828       38.725157      38.625040\n",
      "     ankle           23.586       23.490255      23.403851\n",
      "    biceps           32.798       32.598184      32.403743\n",
      "   forearm           28.852       28.769638      28.685546\n",
      "     wrist           18.118       18.084399      18.051573\n",
      "\n"
     ]
    }
   ],
   "source": [
    "# Question 1c\n",
    "print('Question 1c')\n",
    "import scipy.stats\n",
    "\n",
    "# Compute geometric mean and harmonic mean for each body part\n",
    "arithmetic_means = bodyfat2.iloc[:, 5:15].mean(axis=0)\n",
    "geometric_means = scipy.stats.gmean(bodyfat2.iloc[:, 5:15], axis=0)\n",
    "harmonic_means = scipy.stats.hmean(bodyfat2.iloc[:, 5:15], axis=0)\n",
    "\n",
    "# Create a DataFrame to store the computed means\n",
    "means_df = pd.DataFrame({\n",
    "    'Body Part': bodyfat2.columns[5:15],\n",
    "    'Arithmetic Mean': arithmetic_means,\n",
    "    'Geometric Mean': geometric_means,\n",
    "    'Harmonic Mean': harmonic_means\n",
    "})\n",
    "\n",
    "print(means_df.to_string(header=True, index=False, col_space=10))\n",
    "print()\n"
   ]
  },
  {
   "cell_type": "code",
   "execution_count": 19,
   "metadata": {},
   "outputs": [
    {
     "name": "stdout",
     "output_type": "stream",
     "text": [
      "Question 2a\n",
      "Max and Min values for all features and associated IDs\n",
      "            Max value     Max ID  Min value     Min ID\n",
      "Feature                                               \n",
      "density        1.0911         25     1.0101         35\n",
      "bodyfat       40.1000         35     3.7000         25\n",
      "neck          51.2000         38    31.5000         44\n",
      "chest        136.2000         38    83.4000         49\n",
      "abdomen      148.1000         38    70.4000         49\n",
      "hip          147.7000         38    85.3000         26\n",
      "thigh         87.3000         38    50.0000         44\n",
      "knee          49.1000         38    34.4000         49\n",
      "ankle         33.9000         30    20.6000         48\n",
      "biceps        45.0000         38    26.1000         44\n",
      "forearm       32.8000         21    23.1000         44\n",
      "wrist         21.4000         38    16.1000         44\n",
      "\n"
     ]
    }
   ],
   "source": [
    "# Question 2a\n",
    "print('Question 2a')\n",
    "# Remove age, weight and height\n",
    "bodyfat2_without_age_weight_height_cols = bodyfat2.drop(columns=['age', 'weight', 'height'])\n",
    "\n",
    "# For each feature, and combine them into a single data frame\n",
    "print(\"Max and Min values for all features and associated IDs\")\n",
    "bodyfat2_features_max_and_min_values = pd.concat([bodyfat2_without_age_weight_height_cols.max(),\n",
    "                                                  bodyfat2_without_age_weight_height_cols.idxmax(),\n",
    "                                                  bodyfat2_without_age_weight_height_cols.min(),\n",
    "                                                  bodyfat2_without_age_weight_height_cols.idxmin()], axis=1).set_axis(['Max value', 'Max ID', 'Min value', 'Min ID'], axis='columns').rename_axis('Feature')\n",
    "\n",
    "print(bodyfat2_features_max_and_min_values.to_string(header=True, index=True, col_space=10))\n",
    "print()"
   ]
  },
  {
   "cell_type": "code",
   "execution_count": 17,
   "metadata": {},
   "outputs": [
    {
     "name": "stdout",
     "output_type": "stream",
     "text": [
      "Question 2b\n",
      "Individuals appearing more than once under Max ID:\n",
      "         Max value  Max ID\n",
      "Feature                   \n",
      "neck          51.2      38\n",
      "chest        136.2      38\n",
      "abdomen      148.1      38\n",
      "hip          147.7      38\n",
      "thigh         87.3      38\n",
      "knee          49.1      38\n",
      "biceps        45.0      38\n",
      "wrist         21.4      38\n",
      "\n",
      "Individuals appearing more than once under Min ID:\n",
      "         Min value  Min ID\n",
      "Feature                   \n",
      "neck          31.5      44\n",
      "chest         83.4      49\n",
      "abdomen       70.4      49\n",
      "thigh         50.0      44\n",
      "knee          34.4      49\n",
      "biceps        26.1      44\n",
      "forearm       23.1      44\n",
      "wrist         16.1      44\n"
     ]
    }
   ],
   "source": [
    "# Question 2b\n",
    "print('Question 2b')\n",
    "\n",
    "# Identify individuals appearing more than once under Max ID\n",
    "max_id_duplicates = bodyfat2_features_max_and_min_values[\n",
    "    bodyfat2_features_max_and_min_values['Max ID'].duplicated(keep=False)\n",
    "].drop(columns=['Min value', 'Min ID'])\n",
    "\n",
    "# Identify individuals appearing more than once under Min ID\n",
    "min_id_duplicates = bodyfat2_features_max_and_min_values[\n",
    "    bodyfat2_features_max_and_min_values['Min ID'].duplicated(keep=False)\n",
    "].drop(columns=['Max value', 'Max ID'])\n",
    "\n",
    "print(\"Individuals appearing more than once under Max ID:\")\n",
    "print(max_id_duplicates)\n",
    "print(\"\\nIndividuals appearing more than once under Min ID:\")\n",
    "print(min_id_duplicates)"
   ]
  },
  {
   "cell_type": "code",
   "execution_count": 28,
   "metadata": {},
   "outputs": [
    {
     "name": "stdout",
     "output_type": "stream",
     "text": [
      "Question 3\n",
      "For each feature, the more values that lie within 10% of standard deviation from the centre, the tighter the spread\n",
      "feature  number_mean  number_median\n",
      "density            1              3\n",
      "bodyfat            1              3\n",
      "    age            3              4\n",
      " weight            7              8\n",
      " height            3              5\n",
      "   neck            4              6\n",
      "  chest            7              7\n",
      "abdomen            4              6\n",
      "    hip            4              6\n",
      "  thigh            2              2\n",
      "   knee            6              5\n",
      "  ankle            5              7\n",
      " biceps            5              6\n",
      "forearm            4              3\n",
      "  wrist            5              7\n",
      "\n"
     ]
    }
   ],
   "source": [
    "# Question 3\n",
    "print('Question 3')\n",
    "bodyfat2_stds = bodyfat2.std()\n",
    "print(\"For each feature, the more values that lie within 10% of standard deviation from the centre, the tighter the spread\")\n",
    "\n",
    "within_10_percent_std_of_means = (bodyfat2 >= bodyfat2_means - 0.1 * bodyfat2_stds) & (bodyfat2 <= bodyfat2_means + 0.1 * bodyfat2_stds)\n",
    "within_10_percent_std_of_medians = (bodyfat2 >= bodyfat2_medians - 0.1 * bodyfat2_stds) & (bodyfat2 <= bodyfat2_medians + 0.1 * bodyfat2_stds)\n",
    "\n",
    "num_within_10_percent_std_of_means = within_10_percent_std_of_means.sum()\n",
    "num_within_10_percent_std_of_medians = within_10_percent_std_of_medians.sum()\n",
    "\n",
    "result_df = pd.DataFrame({\n",
    "    'feature': bodyfat2.columns,  # Select the desired feature columns\n",
    "    'number_mean': num_within_10_percent_std_of_means,  # Select the corresponding counts\n",
    "    'number_median': num_within_10_percent_std_of_medians  # Select the corresponding counts\n",
    "})\n",
    "\n",
    "print(result_df.to_string(index=False))\n",
    "print()"
   ]
  },
  {
   "cell_type": "code",
   "execution_count": 31,
   "metadata": {},
   "outputs": [
    {
     "name": "stdout",
     "output_type": "stream",
     "text": [
      "Question 4\n",
      "The higher the number of missing data, the more incomplete the data for that particular feature\n",
      "Possible remedy: Features with too many missing values should dropped\n",
      "density    0\n",
      "bodyfat    4\n",
      "age        0\n",
      "weight     7\n",
      "height     2\n",
      "neck       3\n",
      "chest      1\n",
      "abdomen    0\n",
      "hip        6\n",
      "thigh      3\n",
      "knee       1\n",
      "ankle      2\n",
      "biceps     4\n",
      "forearm    0\n",
      "wrist      2\n",
      "\n"
     ]
    }
   ],
   "source": [
    "# Question 4\n",
    "print('Question 4')\n",
    "print('The higher the number of missing data, the more incomplete the data for that particular feature')\n",
    "print('Possible remedy: Features with too many missing values should dropped')\n",
    "print(pd.isna(bodyfat3).sum().to_string())\n",
    "print()"
   ]
  },
  {
   "cell_type": "code",
   "execution_count": 38,
   "metadata": {},
   "outputs": [
    {
     "name": "stdout",
     "output_type": "stream",
     "text": [
      "Question 5a\n",
      "Absolute difference in mean values for each feature compared to the original mean from bodyfat2 dataset:\n",
      "density    0.000000\n",
      "bodyfat    0.536348\n",
      "age        0.000000\n",
      "weight     1.001302\n",
      "height     0.036667\n",
      "neck       0.139404\n",
      "chest      0.017796\n",
      "abdomen    0.000000\n",
      "hip        0.410182\n",
      "thigh      0.193234\n",
      "knee       0.074939\n",
      "ankle      0.034833\n",
      "biceps     0.158522\n",
      "forearm    0.000000\n",
      "wrist      0.013250\n",
      "\n"
     ]
    }
   ],
   "source": [
    "# Question 5a\n",
    "print('Question 5a')\n",
    "# Calculate the means of the available values in bodyfat3 dataset\n",
    "bodyfat3_means = bodyfat3.mean()\n",
    "\n",
    "# Fill missing values in bodyfat3 dataset with the calculated means\n",
    "filled_data = bodyfat3.fillna(value=bodyfat3_means)\n",
    "\n",
    "# Calculate means again, although they should be similar to bodyfat3_means\n",
    "filled_data_means = filled_data.mean()\n",
    "\n",
    "# Calculate the absolute difference in mean values for each feature\n",
    "mean_difference = abs(bodyfat2_means - filled_data_means)\n",
    "\n",
    "print(\"Absolute difference in mean values for each feature compared to the original mean from bodyfat2 dataset:\")\n",
    "print(mean_difference.to_string())\n",
    "print()"
   ]
  },
  {
   "cell_type": "code",
   "execution_count": 40,
   "metadata": {},
   "outputs": [
    {
     "name": "stdout",
     "output_type": "stream",
     "text": [
      "Question 5b\n",
      "Absolute difference in median values for each feature compared to the original median from bodyfat2 dataset:\n",
      "density    0.000\n",
      "bodyfat    0.850\n",
      "age        0.000\n",
      "weight     0.875\n",
      "height     0.000\n",
      "neck       0.100\n",
      "chest      0.200\n",
      "abdomen    0.000\n",
      "hip        1.100\n",
      "thigh      1.500\n",
      "knee       0.000\n",
      "ankle      0.000\n",
      "biceps     0.050\n",
      "forearm    0.000\n",
      "wrist      0.000\n",
      "\n"
     ]
    }
   ],
   "source": [
    "# Question 5b\n",
    "print('Question 5b')\n",
    "# Calculate the medians of the available values in bodyfat3 dataset\n",
    "bodyfat3_medians = bodyfat3.median()\n",
    "\n",
    "# Fill missing values in bodyfat3 dataset with the calculated medians\n",
    "filled_data_with_medians = bodyfat3.fillna(value=bodyfat3_medians)\n",
    "\n",
    "# Calculate medians again, although they should be similar to bodyfat3_medians\n",
    "filled_data_with_medians_medians = filled_data_with_medians.median()\n",
    "\n",
    "# Calculate the absolute difference in median values for each feature\n",
    "median_difference = abs(bodyfat2_medians - filled_data_with_medians_medians)\n",
    "\n",
    "print(\"Absolute difference in median values for each feature compared to the original median from bodyfat2 dataset:\")\n",
    "print(median_difference.to_string())\n",
    "print()\n"
   ]
  },
  {
   "cell_type": "code",
   "execution_count": 43,
   "metadata": {},
   "outputs": [
    {
     "name": "stdout",
     "output_type": "stream",
     "text": [
      "Question 6a\n",
      "Normalised features for first 3 individuals\n",
      "    density   bodyfat       age    weight    height      neck     chest   abdomen       hip     thigh      knee     ankle    biceps   forearm     wrist\n",
      "0  0.561613 -0.567159 -1.268721 -0.720556 -0.893031 -0.552493 -0.756337 -0.474192 -0.722223 -0.373159 -0.527376 -0.742220 -0.215020 -0.666231 -0.901998\n",
      "1  1.217281 -1.197111 -1.387738 -0.248598  0.795473  0.147250 -0.709231 -0.625823 -0.320882 -0.417831 -0.527376 -0.081882 -0.619192  0.022024  0.072656\n",
      "2 -0.767810  0.753706 -1.387738 -0.726766 -1.455866 -1.221814 -0.501964 -0.288099 -0.273103 -0.283815  0.024850  0.182253 -1.077254 -1.675671 -1.345022\n",
      "Normalised features for last 3 individuals\n",
      "     density   bodyfat       age    weight    height      neck     chest   abdomen       hip     thigh      knee     ankle    biceps   forearm     wrist\n",
      "47  1.271543 -1.247913  0.635551 -0.863386  0.420250 -1.039272 -1.067238 -0.867054 -0.894227 -1.311268 -0.458348 -0.742220 -1.077254 -0.941533 -0.193159\n",
      "48  0.425958 -0.435073  1.349653 -1.180095 -0.611614 -1.586898 -0.831707 -0.598254 -1.114009 -1.415503 -1.045088 -1.314513 -1.077254 -1.538020 -1.610837\n",
      "49  1.443374 -1.410481  1.587687 -1.385024 -1.268254 -1.221814 -1.670197 -1.494255 -1.419793 -1.623971 -1.528286 -0.742220 -1.616150 -1.400369 -1.167813\n",
      "\n"
     ]
    }
   ],
   "source": [
    "# Question 6a\n",
    "print('Question 6a')\n",
    "# Apply normalisation formula provided\n",
    "bodyfat2_normalized = (bodyfat2 - bodyfat2_means) / bodyfat2_stds\n",
    "print('Normalised features for first 3 individuals')\n",
    "print(bodyfat2_normalized.head(3).to_string())\n",
    "print('Normalised features for last 3 individuals')\n",
    "print(bodyfat2_normalized.tail(3).to_string())\n",
    "\n",
    "print()"
   ]
  },
  {
   "cell_type": "code",
   "execution_count": 54,
   "metadata": {},
   "outputs": [
    {
     "name": "stdout",
     "output_type": "stream",
     "text": [
      "Question 6a\n",
      "Normalised features for first 3 individuals:\n",
      " density  bodyfat  age  weight  height  neck  chest  abdomen  hip  thigh  knee  ankle  biceps  forearm  wrist\n",
      "     NaN      NaN  NaN     NaN     NaN   NaN    NaN      NaN  NaN    NaN   NaN    NaN     NaN      NaN    NaN\n",
      "     NaN      NaN  NaN     NaN     NaN   NaN    NaN      NaN  NaN    NaN   NaN    NaN     NaN      NaN    NaN\n",
      "     NaN      NaN  NaN     NaN     NaN   NaN    NaN      NaN  NaN    NaN   NaN    NaN     NaN      NaN    NaN\n",
      "Normalised features for last 3 individuals:\n",
      " density  bodyfat  age  weight  height  neck  chest  abdomen  hip  thigh  knee  ankle  biceps  forearm  wrist\n",
      "     NaN      NaN  NaN     NaN     NaN   NaN    NaN      NaN  NaN    NaN   NaN    NaN     NaN      NaN    NaN\n",
      "     NaN      NaN  NaN     NaN     NaN   NaN    NaN      NaN  NaN    NaN   NaN    NaN     NaN      NaN    NaN\n",
      "     NaN      NaN  NaN     NaN     NaN   NaN    NaN      NaN  NaN    NaN   NaN    NaN     NaN      NaN    NaN\n",
      "\n"
     ]
    }
   ],
   "source": [
    "# Question 6a\n",
    "print('Question 6a')\n",
    "\n",
    "# Define a normalization function using a lambda expression\n",
    "normalize_function = lambda x: (x - bodyfat2_means) / bodyfat2_stds\n",
    "\n",
    "# Apply the normalization function to the entire DataFrame\n",
    "bodyfat2_normalized = bodyfat2.apply(normalize_function)\n",
    "\n",
    "print('Normalised features for first 3 individuals:')\n",
    "print(bodyfat2_normalized.head(3).to_string(index=False))\n",
    "\n",
    "print('Normalised features for last 3 individuals:')\n",
    "print(bodyfat2_normalized.tail(3).to_string(index=False))\n",
    "\n",
    "print()\n"
   ]
  },
  {
   "cell_type": "code",
   "execution_count": 45,
   "metadata": {},
   "outputs": [
    {
     "name": "stdout",
     "output_type": "stream",
     "text": [
      "Question 6b\n",
      "Number of people who are above average for the feature\n",
      "density    27\n",
      "bodyfat    23\n",
      "age        21\n",
      "weight     25\n",
      "height     23\n",
      "neck       26\n",
      "chest      25\n",
      "abdomen    21\n",
      "hip        22\n",
      "thigh      25\n",
      "knee       23\n",
      "ankle      21\n",
      "biceps     22\n",
      "forearm    27\n",
      "wrist      27\n"
     ]
    }
   ],
   "source": [
    "# Question 6b\n",
    "print('Question 6b')\n",
    "bodyfat2_normalized_means = bodyfat2_normalized.mean()\n",
    "bodyfat2_normalized_greater_than_means = bodyfat2_normalized.gt(bodyfat2_normalized_means).sum()\n",
    "print('Number of people who are above average for the feature')\n",
    "print(bodyfat2_normalized_greater_than_means.to_string())"
   ]
  },
  {
   "cell_type": "code",
   "execution_count": 51,
   "metadata": {},
   "outputs": [
    {
     "name": "stdout",
     "output_type": "stream",
     "text": [
      "Question 6b\n",
      "Individuals above average for each feature:\n",
      "density    27\n",
      "bodyfat    23\n",
      "age        21\n",
      "weight     25\n",
      "height     23\n",
      "neck       26\n",
      "chest      25\n",
      "abdomen    21\n",
      "hip        22\n",
      "thigh      25\n",
      "knee       23\n",
      "ankle      21\n",
      "biceps     22\n",
      "forearm    27\n",
      "wrist      27\n"
     ]
    }
   ],
   "source": [
    "# Question 6b\n",
    "print('Question 6b')\n",
    "bodyfat2_normalized_means = bodyfat2_normalized.mean()\n",
    "\n",
    "# Count the number of people who are above average for each feature\n",
    "bodyfat2_normalized_greater_than_means_count = (bodyfat2_normalized > bodyfat2_normalized_means).sum()\n",
    "\n",
    "print('Individuals above average for each feature:')\n",
    "print(bodyfat2_normalized_greater_than_means_count.to_string())\n"
   ]
  }
 ],
 "metadata": {
  "kernelspec": {
   "display_name": "Python 3",
   "language": "python",
   "name": "python3"
  },
  "language_info": {
   "codemirror_mode": {
    "name": "ipython",
    "version": 3
   },
   "file_extension": ".py",
   "mimetype": "text/x-python",
   "name": "python",
   "nbconvert_exporter": "python",
   "pygments_lexer": "ipython3",
   "version": "3.11.4"
  },
  "orig_nbformat": 4
 },
 "nbformat": 4,
 "nbformat_minor": 2
}
