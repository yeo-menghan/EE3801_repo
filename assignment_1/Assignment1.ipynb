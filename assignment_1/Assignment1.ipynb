{
 "cells": [
  {
   "cell_type": "code",
   "execution_count": 6,
   "metadata": {},
   "outputs": [
    {
     "name": "stdout",
     "output_type": "stream",
     "text": [
      "1(a)\n",
      " ID  Mean  Median   Sum\n",
      "  0 50.37   36.75 503.7\n",
      "  1 51.08   37.90 510.8\n",
      "  2 51.00   36.45 510.0\n",
      " 47 48.22   36.05 482.2\n",
      " 48 47.79   34.30 477.9\n",
      " 49 45.13   34.20 451.3\n"
     ]
    },
    {
     "name": "stderr",
     "output_type": "stream",
     "text": [
      "/var/folders/_l/9yt9fjns3yl8khq3hlylkj7w0000gn/T/ipykernel_11351/1796388985.py:35: FutureWarning: The series.append method is deprecated and will be removed from pandas in a future version. Use pandas.concat instead.\n",
      "  .append(bodyfat2_compiled_means.tail(3), ignore_index=True)\n",
      "/var/folders/_l/9yt9fjns3yl8khq3hlylkj7w0000gn/T/ipykernel_11351/1796388985.py:40: FutureWarning: The series.append method is deprecated and will be removed from pandas in a future version. Use pandas.concat instead.\n",
      "  .append(bodyfat2_compiled_medians.tail(3), ignore_index=True)\n",
      "/var/folders/_l/9yt9fjns3yl8khq3hlylkj7w0000gn/T/ipykernel_11351/1796388985.py:45: FutureWarning: The series.append method is deprecated and will be removed from pandas in a future version. Use pandas.concat instead.\n",
      "  .append(bodyfat2_compiled_sums.tail(3), ignore_index=True)\n"
     ]
    }
   ],
   "source": [
    "import pandas as pd\n",
    "\n",
    "bodyfat2 = pd.read_csv('bodyfat2.csv')\n",
    "bodyfat3 = pd.read_csv('bodyfat3.csv')\n",
    "\n",
    "# Question 1a\n",
    "print('1(a)')\n",
    "\n",
    "# Select columns from neck onwards till wrist (fat present in the body parts)\n",
    "bodyfat2_compiled = bodyfat2.iloc[:, 5:15]\n",
    "\n",
    "# Compute the mean, median, and sum, for each individual\n",
    "bodyfat2_compiled_means = bodyfat2_compiled.mean(1) # 1 for columns\n",
    "bodyfat2_compiled_medians = bodyfat2_compiled.median(1)\n",
    "bodyfat2_compiled_sums = bodyfat2_compiled.sum(1)\n",
    "\n",
    "# Combine the means of the first 3 and last 3 individuals into a data frame\n",
    "# and remove their individual IDs.\n",
    "bodyfat2_top_bottom_3_means = bodyfat2_compiled_means.head(3) \\\n",
    "    .append(bodyfat2_compiled_means.tail(3), ignore_index=True)\n",
    "\n",
    "# Combine the medians of the first 3 and last 3 individuals into a data frame\n",
    "# and remove their individual IDs.\n",
    "bodyfat2_top_bottom_3_medians = bodyfat2_compiled_medians.head(3) \\\n",
    "    .append(bodyfat2_compiled_medians.tail(3), ignore_index=True)\n",
    "\n",
    "# Combine the sums of the first 3 and last 3 individuals into a data frame\n",
    "# and remove their individual IDs.\n",
    "bodyfat2_top_bottom_3_sums = bodyfat2_compiled_sums.head(3) \\\n",
    "    .append(bodyfat2_compiled_sums.tail(3), ignore_index=True)\n",
    "\n",
    "# Combine all the 2 * 3 data frames to form the required 6 * 3 data frame\n",
    "bodyfat2_top_bottom_3 = pd.concat([bodyfat2_top_bottom_3_means,\n",
    "                                   bodyfat2_top_bottom_3_medians,\n",
    "                                   bodyfat2_top_bottom_3_sums], axis=1)\n",
    "\n",
    "# Rename the columns\n",
    "bodyfat2_top_bottom_3.columns = ['Mean', 'Median', 'Sum']\n",
    "\n",
    "# Add a new 'ID' column\n",
    "ids = [i for i in range(3)] + [i for i in range(47, 50)]\n",
    "bodyfat2_top_bottom_3['ID'] = ids\n",
    "\n",
    "# Reorder the columns\n",
    "bodyfat2_top_bottom_3 = bodyfat2_top_bottom_3[['ID', 'Mean', 'Median', 'Sum']]\n",
    "\n",
    "print(bodyfat2_top_bottom_3.to_string(index=False))"
   ]
  },
  {
   "cell_type": "code",
   "execution_count": 7,
   "metadata": {},
   "outputs": [
    {
     "name": "stdout",
     "output_type": "stream",
     "text": [
      "1(b)\n",
      "feature      mean   median      sum\n",
      "density   1.05838   1.0616   52.919\n",
      "bodyfat  17.88200  16.2500  894.100\n",
      "    age  33.66000  32.0000 1683.000\n",
      " weight 183.25800 182.8750 9162.900\n",
      " height  70.13000  70.0000 3506.500\n",
      "   neck  38.01600  38.1000 1900.800\n",
      "  chest 101.12800 101.1000 5056.400\n",
      "abdomen  92.08000  89.1500 4604.000\n",
      "    hip 102.05800 100.4500 5102.900\n",
      "  thigh  61.50600  61.6000 3075.300\n",
      "   knee  38.82800  38.7000 1941.400\n",
      "  ankle  23.58600  23.1000 1179.300\n",
      " biceps  32.79800  32.4500 1639.900\n",
      "forearm  28.85200  29.0000 1442.600\n",
      "  wrist  18.11800  18.2000  905.900\n",
      "\n"
     ]
    }
   ],
   "source": [
    "# Question 1b\n",
    "print('1(b)')\n",
    "# Compute and store means, medians and sums of features in bodyfat2\n",
    "# and store them as Series\n",
    "bodyfat2_means = bodyfat2.mean()\n",
    "bodyfat2_medians = bodyfat2.median()\n",
    "bodyfat2_sums = bodyfat2.sum()\n",
    "\n",
    "# print('The means of the values of each feature')\n",
    "# print(bodyfat2_means.to_string())\n",
    "# print()\n",
    "# print('The medians of the values of each feature')\n",
    "# print(bodyfat2_medians.to_string())\n",
    "# print()\n",
    "# print('The sums of the values of each feature')\n",
    "# print(bodyfat2_sums.to_string())\n",
    "\n",
    "# Create data frames from the Series\n",
    "means_df = pd.DataFrame({'feature': bodyfat2.columns, 'mean': bodyfat2_means})\n",
    "medians_df = pd.DataFrame({'feature': bodyfat2.columns, 'median': bodyfat2_medians})\n",
    "sums_df = pd.DataFrame({'feature': bodyfat2.columns, 'sum': bodyfat2_sums})\n",
    "\n",
    "# Merge the data frames based on the 'feature' column\n",
    "result_df = pd.merge(means_df, medians_df, on='feature')\n",
    "result_df = pd.merge(result_df, sums_df, on='feature')\n",
    "\n",
    "print(result_df.to_string(index=False))\n",
    "\n",
    "print()"
   ]
  },
  {
   "cell_type": "code",
   "execution_count": 8,
   "metadata": {},
   "outputs": [
    {
     "name": "stdout",
     "output_type": "stream",
     "text": [
      "1(c)\n",
      "Body Part  Geometric Mean  Harmonic Mean\n",
      "     neck       37.883069      37.755200\n",
      "    chest      100.606458     100.106007\n",
      "  abdomen       91.065145      90.135062\n",
      "      hip      101.577150     101.131966\n",
      "    thigh       61.161311      60.827484\n",
      "     knee       38.725157      38.625040\n",
      "    ankle       23.490255      23.403851\n",
      "   biceps       32.598184      32.403743\n",
      "  forearm       28.769638      28.685546\n",
      "    wrist       18.084399      18.051573\n"
     ]
    }
   ],
   "source": [
    "# Question 1c\n",
    "print('1(c)')\n",
    "import scipy.stats\n",
    "\n",
    "# Compute geometric mean and harmonic mean for each body part\n",
    "geometric_means = scipy.stats.gmean(bodyfat2.iloc[:, 5:15], axis=0)\n",
    "harmonic_means = scipy.stats.hmean(bodyfat2.iloc[:, 5:15], axis=0)\n",
    "\n",
    "# Create a DataFrame to store the computed means\n",
    "means_df = pd.DataFrame({\n",
    "    'Body Part': bodyfat2.columns[5:15],\n",
    "    'Geometric Mean': geometric_means,\n",
    "    'Harmonic Mean': harmonic_means\n",
    "})\n",
    "\n",
    "print(means_df.to_string(index=False))\n"
   ]
  },
  {
   "cell_type": "code",
   "execution_count": 14,
   "metadata": {},
   "outputs": [
    {
     "name": "stdout",
     "output_type": "stream",
     "text": [
      "2a\n",
      "Extreme values for all features and associated IDs for identification\n",
      "            Max value     Max ID  Min value     Min ID\n",
      "Feature                                               \n",
      "density        1.0911         25     1.0101         35\n",
      "bodyfat       40.1000         35     3.7000         25\n",
      "neck          51.2000         38    31.5000         44\n",
      "chest        136.2000         38    83.4000         49\n",
      "abdomen      148.1000         38    70.4000         49\n",
      "hip          147.7000         38    85.3000         26\n",
      "thigh         87.3000         38    50.0000         44\n",
      "knee          49.1000         38    34.4000         49\n",
      "ankle         33.9000         30    20.6000         48\n",
      "biceps        45.0000         38    26.1000         44\n",
      "forearm       32.8000         21    23.1000         44\n",
      "wrist         21.4000         38    16.1000         44\n",
      "\n"
     ]
    }
   ],
   "source": [
    "# Question 2a\n",
    "print('2(a)')\n",
    "# Remove age, weight and height\n",
    "bodyfat2_without_age_weight_height = bodyfat2.drop(columns=['age', 'weight', 'height'])\n",
    "\n",
    "# For each feature, and combine them into a single 12 * 4 data frame.\n",
    "print(\"Extreme values for all features and associated IDs for identification\")\n",
    "bodyfat2_features_max_and_min_values = pd.concat([bodyfat2_without_age_weight_height.max(),\n",
    "                                                  bodyfat2_without_age_weight_height.idxmax(),\n",
    "                                                  bodyfat2_without_age_weight_height.min(),\n",
    "                                                  bodyfat2_without_age_weight_height.idxmin()], axis=1)\\\n",
    "    .set_axis(['Max value', 'Max ID', 'Min value', 'Min ID'], axis='columns').rename_axis('Feature')\n",
    "\n",
    "print(bodyfat2_features_max_and_min_values.to_string(header=True, index=True, col_space=10))\n",
    "\n",
    "print()"
   ]
  },
  {
   "cell_type": "code",
   "execution_count": 18,
   "metadata": {},
   "outputs": [
    {
     "name": "stdout",
     "output_type": "stream",
     "text": [
      "2(b)\n",
      "Individuals appearing more than once under Max ID:\n",
      "         Max value  Max ID\n",
      "Feature                   \n",
      "neck          51.2      38\n",
      "chest        136.2      38\n",
      "abdomen      148.1      38\n",
      "hip          147.7      38\n",
      "thigh         87.3      38\n",
      "knee          49.1      38\n",
      "biceps        45.0      38\n",
      "wrist         21.4      38\n",
      "\n",
      "Individuals appearing more than once under Min ID:\n",
      "         Min value  Min ID\n",
      "Feature                   \n",
      "neck          31.5      44\n",
      "chest         83.4      49\n",
      "abdomen       70.4      49\n",
      "thigh         50.0      44\n",
      "knee          34.4      49\n",
      "biceps        26.1      44\n",
      "forearm       23.1      44\n",
      "wrist         16.1      44\n"
     ]
    }
   ],
   "source": [
    "# Question 2b\n",
    "print('2(b)')\n",
    "\n",
    "# Identify individuals appearing more than once under Max ID\n",
    "max_id_duplicates = bodyfat2_features_max_and_min_values[\n",
    "    bodyfat2_features_max_and_min_values['Max ID'].duplicated(keep=False)\n",
    "].drop(columns=['Min value', 'Min ID'])\n",
    "\n",
    "# Identify individuals appearing more than once under Min ID\n",
    "min_id_duplicates = bodyfat2_features_max_and_min_values[\n",
    "    bodyfat2_features_max_and_min_values['Min ID'].duplicated(keep=False)\n",
    "].drop(columns=['Max value', 'Max ID'])\n",
    "\n",
    "print(\"Individuals appearing more than once under Max ID:\")\n",
    "print(max_id_duplicates)\n",
    "print(\"\\nIndividuals appearing more than once under Min ID:\")\n",
    "print(min_id_duplicates)"
   ]
  },
  {
   "cell_type": "code",
   "execution_count": 22,
   "metadata": {},
   "outputs": [
    {
     "name": "stdout",
     "output_type": "stream",
     "text": [
      "3\n",
      "For each feature, the more values lie within 10% of standard deviation from the centre, the tighter the spread\n",
      "    feature  number_mean  number_median\n",
      "0   density            1              3\n",
      "1   bodyfat            1              3\n",
      "2       age            3              4\n",
      "3    weight            7              8\n",
      "4    height            3              5\n",
      "5      neck            4              6\n",
      "6     chest            7              7\n",
      "7   abdomen            4              6\n",
      "8       hip            4              6\n",
      "9     thigh            2              2\n",
      "10     knee            6              5\n",
      "11    ankle            5              7\n",
      "12   biceps            5              6\n",
      "13  forearm            4              3\n",
      "14    wrist            5              7\n"
     ]
    }
   ],
   "source": [
    "# Question 3\n",
    "print('3')\n",
    "bodyfat2_stds = bodyfat2.std()\n",
    "print(\"For each feature, the more values lie within 10% of standard deviation from the centre, the tighter the spread\")\n",
    "bodyfat2_num_within_10_percent_std_of_means = bodyfat2[(bodyfat2 >= bodyfat2_means - 0.1 * bodyfat2_stds)\n",
    "                                                       & (bodyfat2 <= bodyfat2_means + 0.1 * bodyfat2_stds)] \\\n",
    "    .count()\n",
    "\n",
    "bodyfat2_num_within_10_percent_std_of_medians = bodyfat2[(bodyfat2 >= bodyfat2_medians - 0.1 * bodyfat2_stds)\n",
    "                                                         & (bodyfat2 <= bodyfat2_medians + 0.1 * bodyfat2_stds)] \\\n",
    "    .count()\n",
    "\n",
    "# Create DataFrames from the Series\n",
    "within_10_percent_means_df = pd.DataFrame({\n",
    "    'feature': bodyfat2.columns,\n",
    "    'number_mean': bodyfat2_num_within_10_percent_std_of_means\n",
    "})\n",
    "\n",
    "within_10_percent_medians_df = pd.DataFrame({\n",
    "    'feature': bodyfat2.columns,\n",
    "    'number_median': bodyfat2_num_within_10_percent_std_of_medians\n",
    "})\n",
    "\n",
    "# Merge the DataFrames based on the 'feature' column\n",
    "result_df = pd.merge(within_10_percent_means_df, within_10_percent_medians_df, on='feature')\n",
    "\n",
    "print(result_df)"
   ]
  },
  {
   "cell_type": "code",
   "execution_count": 25,
   "metadata": {},
   "outputs": [
    {
     "name": "stdout",
     "output_type": "stream",
     "text": [
      "4\n",
      "Number of missing values for each feature, the higher the number, the more incomplete the data for the feature is\n",
      "Possible remedy: Features with too many missing values should dropped\n",
      "density    0\n",
      "bodyfat    4\n",
      "age        0\n",
      "weight     7\n",
      "height     2\n",
      "neck       3\n",
      "chest      1\n",
      "abdomen    0\n",
      "hip        6\n",
      "thigh      3\n",
      "knee       1\n",
      "ankle      2\n",
      "biceps     4\n",
      "forearm    0\n",
      "wrist      2\n",
      "\n"
     ]
    }
   ],
   "source": [
    "# Question 4\n",
    "print('4')\n",
    "print('Number of missing values for each feature, the higher the number, the more incomplete the data for the'\n",
    "      ' feature is')\n",
    "print('Possible remedy: Features with too many missing values should dropped')\n",
    "print(pd.isna(bodyfat3).sum().to_string())\n",
    "print()"
   ]
  },
  {
   "cell_type": "code",
   "execution_count": 30,
   "metadata": {},
   "outputs": [
    {
     "name": "stdout",
     "output_type": "stream",
     "text": [
      "5(a)\n",
      "Absolute difference in mean values for each feature compared to the original mean from bodyfat2 dataset:\n",
      "density    0.000000\n",
      "bodyfat    0.536348\n",
      "age        0.000000\n",
      "weight     1.001302\n",
      "height     0.036667\n",
      "neck       0.139404\n",
      "chest      0.017796\n",
      "abdomen    0.000000\n",
      "hip        0.410182\n",
      "thigh      0.193234\n",
      "knee       0.074939\n",
      "ankle      0.034833\n",
      "biceps     0.158522\n",
      "forearm    0.000000\n",
      "wrist      0.013250\n",
      "\n"
     ]
    }
   ],
   "source": [
    "# Question 5a\n",
    "print('5(a)')\n",
    "# Find means of available values\n",
    "bodyfat3_means = bodyfat3.mean()\n",
    "# Impute with means\n",
    "bodyfat3b = bodyfat3.fillna(value=bodyfat3_means)\n",
    "# Recalculate even though should be same as bodyfat3_means\n",
    "bodyfat3b_means = bodyfat3b.mean()\n",
    "\n",
    "# Calculate the absolute difference in mean values for each feature\n",
    "mean_difference = abs(bodyfat2_means - bodyfat3b_means)\n",
    "\n",
    "print(\"Absolute difference in mean values for each feature compared to the original mean from bodyfat2 dataset:\")\n",
    "print(mean_difference.to_string())\n",
    "print()\n"
   ]
  },
  {
   "cell_type": "code",
   "execution_count": 29,
   "metadata": {},
   "outputs": [
    {
     "name": "stdout",
     "output_type": "stream",
     "text": [
      "5(b)\n",
      "Absolute difference in median values for each feature compared to the original median from bodyfat2 dataset:\n",
      "density    0.000\n",
      "bodyfat    0.850\n",
      "age        0.000\n",
      "weight     0.875\n",
      "height     0.000\n",
      "neck       0.100\n",
      "chest      0.200\n",
      "abdomen    0.000\n",
      "hip        1.100\n",
      "thigh      1.500\n",
      "knee       0.000\n",
      "ankle      0.000\n",
      "biceps     0.050\n",
      "forearm    0.000\n",
      "wrist      0.000\n"
     ]
    }
   ],
   "source": [
    "# Question 5b\n",
    "print('5(b)')\n",
    "# Find medians of available values\n",
    "bodyfat3_medians = bodyfat3.median()\n",
    "# Impute with medians\n",
    "bodyfat3b = bodyfat3.fillna(value=bodyfat3_medians)\n",
    "# Recalculate even though should be same as bodyfat3_medians\n",
    "bodyfat3b_medians = bodyfat3b.median()\n",
    "\n",
    "# Calculate the absolute difference in median values for each feature\n",
    "median_difference = abs(bodyfat2_medians - bodyfat3b_medians)\n",
    "\n",
    "print(\"Absolute difference in median values for each feature compared to the original median from bodyfat2 dataset:\")\n",
    "print(median_difference.to_string())\n",
    "print()"
   ]
  },
  {
   "cell_type": "code",
   "execution_count": 32,
   "metadata": {},
   "outputs": [
    {
     "name": "stdout",
     "output_type": "stream",
     "text": [
      "6(i)\n",
      "Normalised features for first 3 individuals\n",
      "    density   bodyfat       age    weight    height      neck     chest   abdomen       hip     thigh      knee     ankle    biceps   forearm     wrist\n",
      "0  0.561613 -0.567159 -1.268721 -0.720556 -0.893031 -0.552493 -0.756337 -0.474192 -0.722223 -0.373159 -0.527376 -0.742220 -0.215020 -0.666231 -0.901998\n",
      "1  1.217281 -1.197111 -1.387738 -0.248598  0.795473  0.147250 -0.709231 -0.625823 -0.320882 -0.417831 -0.527376 -0.081882 -0.619192  0.022024  0.072656\n",
      "2 -0.767810  0.753706 -1.387738 -0.726766 -1.455866 -1.221814 -0.501964 -0.288099 -0.273103 -0.283815  0.024850  0.182253 -1.077254 -1.675671 -1.345022\n",
      "Normalised features for last 3 individuals\n",
      "     density   bodyfat       age    weight    height      neck     chest   abdomen       hip     thigh      knee     ankle    biceps   forearm     wrist\n",
      "47  1.271543 -1.247913  0.635551 -0.863386  0.420250 -1.039272 -1.067238 -0.867054 -0.894227 -1.311268 -0.458348 -0.742220 -1.077254 -0.941533 -0.193159\n",
      "48  0.425958 -0.435073  1.349653 -1.180095 -0.611614 -1.586898 -0.831707 -0.598254 -1.114009 -1.415503 -1.045088 -1.314513 -1.077254 -1.538020 -1.610837\n",
      "49  1.443374 -1.410481  1.587687 -1.385024 -1.268254 -1.221814 -1.670197 -1.494255 -1.419793 -1.623971 -1.528286 -0.742220 -1.616150 -1.400369 -1.167813\n",
      "\n"
     ]
    }
   ],
   "source": [
    "# Question 6a\n",
    "print('6(a)')\n",
    "# Apply normalisation formula provided\n",
    "bodyfat2_normalized = (bodyfat2 - bodyfat2_means) / bodyfat2_stds\n",
    "print('Normalised features for first 3 individuals')\n",
    "print(bodyfat2_normalized.head(3).to_string())\n",
    "print('Normalised features for last 3 individuals')\n",
    "print(bodyfat2_normalized.tail(3).to_string())\n",
    "\n",
    "print()"
   ]
  },
  {
   "cell_type": "code",
   "execution_count": 33,
   "metadata": {},
   "outputs": [
    {
     "name": "stdout",
     "output_type": "stream",
     "text": [
      "6(b)\n",
      "Number of people who are above average for the feature\n",
      "density    27\n",
      "bodyfat    23\n",
      "age        21\n",
      "weight     25\n",
      "height     23\n",
      "neck       26\n",
      "chest      25\n",
      "abdomen    21\n",
      "hip        22\n",
      "thigh      25\n",
      "knee       23\n",
      "ankle      21\n",
      "biceps     22\n",
      "forearm    27\n",
      "wrist      27\n"
     ]
    }
   ],
   "source": [
    "# Question 6b\n",
    "print('6(b)')\n",
    "bodyfat2_normalized_means = bodyfat2_normalized.mean()\n",
    "bodyfat2_normalized_greater_than_means = bodyfat2_normalized.gt(bodyfat2_normalized_means).sum()\n",
    "print('Number of people who are above average for the feature')\n",
    "print(bodyfat2_normalized_greater_than_means.to_string())"
   ]
  }
 ],
 "metadata": {
  "kernelspec": {
   "display_name": "Python 3",
   "language": "python",
   "name": "python3"
  },
  "language_info": {
   "codemirror_mode": {
    "name": "ipython",
    "version": 3
   },
   "file_extension": ".py",
   "mimetype": "text/x-python",
   "name": "python",
   "nbconvert_exporter": "python",
   "pygments_lexer": "ipython3",
   "version": "3.11.4"
  },
  "orig_nbformat": 4
 },
 "nbformat": 4,
 "nbformat_minor": 2
}
