{
 "cells": [
  {
   "cell_type": "code",
   "execution_count": 3,
   "metadata": {},
   "outputs": [
    {
     "name": "stdout",
     "output_type": "stream",
     "text": [
      "1(a)\n",
      "Mean body measurements for first 3 individuals\n",
      "0    50.37\n",
      "1    51.08\n",
      "2    51.00 \n",
      "\n",
      "Mean body measurements for last 3 individuals\n",
      "47    48.22\n",
      "48    47.79\n",
      "49    45.13 \n",
      "\n",
      "Median body measurements for first 3 individuals\n",
      "0    36.75\n",
      "1    37.90\n",
      "2    36.45 \n",
      "\n",
      "Median body measurements for last 3 individuals\n",
      "47    36.05\n",
      "48    34.30\n",
      "49    34.20 \n",
      "\n",
      "Sum of all measurements for first 3 individuals\n",
      "0    503.7\n",
      "1    510.8\n",
      "2    510.0 \n",
      "\n",
      "Sum of all body measurements for last 3 individuals\n",
      "47    482.2\n",
      "48    477.9\n",
      "49    451.3 \n",
      "\n",
      "       0      1      2\n",
      "0  50.37  36.75  503.7\n",
      "1  51.08  37.90  510.8\n",
      "2  51.00  36.45  510.0\n",
      "3  48.22  36.05  482.2\n",
      "4  47.79  34.30  477.9\n",
      "5  45.13  34.20  451.3\n"
     ]
    },
    {
     "name": "stderr",
     "output_type": "stream",
     "text": [
      "/var/folders/_l/9yt9fjns3yl8khq3hlylkj7w0000gn/T/ipykernel_15478/2666991380.py:35: FutureWarning: The series.append method is deprecated and will be removed from pandas in a future version. Use pandas.concat instead.\n",
      "  .append(bodyfat2_neck_to_wrist_means.tail(3), ignore_index=True)\n",
      "/var/folders/_l/9yt9fjns3yl8khq3hlylkj7w0000gn/T/ipykernel_15478/2666991380.py:40: FutureWarning: The series.append method is deprecated and will be removed from pandas in a future version. Use pandas.concat instead.\n",
      "  .append(bodyfat2_neck_to_wrist_medians.tail(3), ignore_index=True)\n",
      "/var/folders/_l/9yt9fjns3yl8khq3hlylkj7w0000gn/T/ipykernel_15478/2666991380.py:45: FutureWarning: The series.append method is deprecated and will be removed from pandas in a future version. Use pandas.concat instead.\n",
      "  .append(bodyfat2_neck_to_wrist_sums.tail(3), ignore_index=True)\n"
     ]
    }
   ],
   "source": [
    "import pandas as pd\n",
    "\n",
    "bodyfat2 = pd.read_csv('bodyfat2.csv')\n",
    "bodyfat3 = pd.read_csv('bodyfat3.csv')\n",
    "\n",
    "# 1(a)\n",
    "print('1(a)')\n",
    "\n",
    "# Select columns from neck onwards till wrist (fat present in the body parts)\n",
    "bodyfat2_neck_to_wrist = bodyfat2.iloc[:, 5:15]\n",
    "\n",
    "# Compute the mean, median, and sum, for each individual\n",
    "bodyfat2_neck_to_wrist_means = bodyfat2_neck_to_wrist.mean(1)\n",
    "bodyfat2_neck_to_wrist_medians = bodyfat2_neck_to_wrist.median(1)\n",
    "bodyfat2_neck_to_wrist_sums = bodyfat2_neck_to_wrist.sum(1)\n",
    "\n",
    "print('Mean body measurements for first 3 individuals')\n",
    "print(bodyfat2_neck_to_wrist_means.head(3).to_string(), '\\n')\n",
    "print('Mean body measurements for last 3 individuals')\n",
    "print(bodyfat2_neck_to_wrist_means.tail(3).to_string(), '\\n')\n",
    "\n",
    "print('Median body measurements for first 3 individuals')\n",
    "print(bodyfat2_neck_to_wrist_medians.head(3).to_string(), '\\n')\n",
    "print('Median body measurements for last 3 individuals')\n",
    "print(bodyfat2_neck_to_wrist_medians.tail(3).to_string(), '\\n')\n",
    "\n",
    "print('Sum of all measurements for first 3 individuals')\n",
    "print(bodyfat2_neck_to_wrist_sums.head(3).to_string(), '\\n')\n",
    "print('Sum of all body measurements for last 3 individuals')\n",
    "print(bodyfat2_neck_to_wrist_sums.tail(3).to_string(), '\\n')\n",
    "\n",
    "# Combine the means of the first 3 and last 3 individuals into a data frame\n",
    "# and remove their individual IDs.\n",
    "bodyfat2_top_bottom_3_means = bodyfat2_neck_to_wrist_means.head(3) \\\n",
    "    .append(bodyfat2_neck_to_wrist_means.tail(3), ignore_index=True)\n",
    "\n",
    "# Combine the medians of the first 3 and last 3 individuals into a data frame\n",
    "# and remove their individual IDs.\n",
    "bodyfat2_top_bottom_3_medians = bodyfat2_neck_to_wrist_medians.head(3) \\\n",
    "    .append(bodyfat2_neck_to_wrist_medians.tail(3), ignore_index=True)\n",
    "\n",
    "# Combine the sums of the first 3 and last 3 individuals into a data frame\n",
    "# and remove their individual IDs.\n",
    "bodyfat2_top_bottom_3_sums = bodyfat2_neck_to_wrist_sums.head(3) \\\n",
    "    .append(bodyfat2_neck_to_wrist_sums.tail(3), ignore_index=True)\n",
    "\n",
    "# Combine all the 2 * 3 data frames to form the required 6 * 3 data frame\n",
    "bodyfat2_top_bottom_3 = pd.concat([bodyfat2_top_bottom_3_means,\n",
    "                                   bodyfat2_top_bottom_3_medians,\n",
    "                                   bodyfat2_top_bottom_3_sums], axis=1)\n",
    "\n",
    "# TODO: replace the headers of the 6*3 to reflect mean, median and sum\n",
    "\n",
    "print(bodyfat2_top_bottom_3)"
   ]
  },
  {
   "cell_type": "code",
   "execution_count": 4,
   "metadata": {},
   "outputs": [
    {
     "name": "stdout",
     "output_type": "stream",
     "text": [
      "1(b)\n",
      "The means of the values of each feature\n",
      "density      1.05838\n",
      "bodyfat     17.88200\n",
      "age         33.66000\n",
      "weight     183.25800\n",
      "height      70.13000\n",
      "neck        38.01600\n",
      "chest      101.12800\n",
      "abdomen     92.08000\n",
      "hip        102.05800\n",
      "thigh       61.50600\n",
      "knee        38.82800\n",
      "ankle       23.58600\n",
      "biceps      32.79800\n",
      "forearm     28.85200\n",
      "wrist       18.11800\n",
      "\n",
      "The medians of the values of each feature\n",
      "density      1.0616\n",
      "bodyfat     16.2500\n",
      "age         32.0000\n",
      "weight     182.8750\n",
      "height      70.0000\n",
      "neck        38.1000\n",
      "chest      101.1000\n",
      "abdomen     89.1500\n",
      "hip        100.4500\n",
      "thigh       61.6000\n",
      "knee        38.7000\n",
      "ankle       23.1000\n",
      "biceps      32.4500\n",
      "forearm     29.0000\n",
      "wrist       18.2000\n",
      "\n",
      "The sums of the values of each feature\n",
      "density      52.919\n",
      "bodyfat     894.100\n",
      "age        1683.000\n",
      "weight     9162.900\n",
      "height     3506.500\n",
      "neck       1900.800\n",
      "chest      5056.400\n",
      "abdomen    4604.000\n",
      "hip        5102.900\n",
      "thigh      3075.300\n",
      "knee       1941.400\n",
      "ankle      1179.300\n",
      "biceps     1639.900\n",
      "forearm    1442.600\n",
      "wrist       905.900\n",
      "\n"
     ]
    }
   ],
   "source": [
    "#1(b)\n",
    "print('1(b)')\n",
    "# Compute and store means, medians and sums of features in bodyfat2\n",
    "# and store them as Series\n",
    "bodyfat2_means = bodyfat2.mean()\n",
    "bodyfat2_medians = bodyfat2.median()\n",
    "bodyfat2_sums = bodyfat2.sum()\n",
    "\n",
    "# YOU DID NOT STATE ANYTHING ABOUT DATAFRAME CREATION IN THE QUESTION\n",
    "print('The means of the values of each feature')\n",
    "print(bodyfat2_means.to_string())\n",
    "print()\n",
    "print('The medians of the values of each feature')\n",
    "print(bodyfat2_medians.to_string())\n",
    "print()\n",
    "print('The sums of the values of each feature')\n",
    "print(bodyfat2_sums.to_string())\n",
    "\n",
    "# TODO: make it into a dataframe by concat?\n",
    "\n",
    "print()"
   ]
  },
  {
   "cell_type": "code",
   "execution_count": null,
   "metadata": {},
   "outputs": [],
   "source": [
    "#1c\n",
    "#compute geometric mean and harmonic mean for each body part \n",
    "#compare and intepret your results with the results obtained for mean in 1b\n",
    "#which mean measure would be the most appropriate here?"
   ]
  },
  {
   "cell_type": "code",
   "execution_count": 5,
   "metadata": {},
   "outputs": [
    {
     "name": "stdout",
     "output_type": "stream",
     "text": [
      "2\n",
      "Extreme values for all features and associated IDs for identification\n",
      "         Max value  Individual ID  Min value  Individual ID\n",
      "Feature                                                    \n",
      "density     1.0911             25     1.0101             35\n",
      "bodyfat    40.1000             35     3.7000             25\n",
      "neck       51.2000             38    31.5000             44\n",
      "chest     136.2000             38    83.4000             49\n",
      "abdomen   148.1000             38    70.4000             49\n",
      "hip       147.7000             38    85.3000             26\n",
      "thigh      87.3000             38    50.0000             44\n",
      "knee       49.1000             38    34.4000             49\n",
      "ankle      33.9000             30    20.6000             48\n",
      "biceps     45.0000             38    26.1000             44\n",
      "forearm    32.8000             21    23.1000             44\n",
      "wrist      21.4000             38    16.1000             44\n",
      "\n"
     ]
    }
   ],
   "source": [
    "# 2a\n",
    "print('2a')\n",
    "# Remove age, weight and height\n",
    "bodyfat2_without_age_weight_height = bodyfat2.drop(columns=['age', 'weight', 'height'])\n",
    "\n",
    "# Using inbuilt methods, extract max values, min values and their associated individual IDs\n",
    "# for each feature, and combine them into a single 12 * 4 data frame.\n",
    "print(\"Extreme values for all features and associated IDs for identification\")\n",
    "bodyfat2_features_max_and_min_values = pd.concat([bodyfat2_without_age_weight_height.max(),\n",
    "                                                  bodyfat2_without_age_weight_height.idxmax(),\n",
    "                                                  bodyfat2_without_age_weight_height.min(),\n",
    "                                                  bodyfat2_without_age_weight_height.idxmin()], axis=1)\\\n",
    "    .set_axis(['Max value', 'Individual ID', 'Min value', 'Individual ID'], axis='columns').rename_axis('Feature')\n",
    "\n",
    "print(bodyfat2_features_max_and_min_values)\n",
    "\n",
    "print()"
   ]
  },
  {
   "cell_type": "code",
   "execution_count": null,
   "metadata": {},
   "outputs": [],
   "source": [
    "#2b\n",
    "#From the DataFrame generated in Q2(a) above, identify individuals who are appearing \n",
    "#more than once under Max ID and Min ID together with the corresponding part of the body. \n",
    "#Display your result with a meaningful message. If there are none, display so."
   ]
  },
  {
   "cell_type": "code",
   "execution_count": 6,
   "metadata": {},
   "outputs": [
    {
     "name": "stdout",
     "output_type": "stream",
     "text": [
      "3\n",
      "For each feature, the more values lie within 10% of standard deviation from the centre, the closer and less spread out they are\n",
      "Using mean as measure of centre\n",
      "density    1\n",
      "bodyfat    1\n",
      "age        3\n",
      "weight     7\n",
      "height     3\n",
      "neck       4\n",
      "chest      7\n",
      "abdomen    4\n",
      "hip        4\n",
      "thigh      2\n",
      "knee       6\n",
      "ankle      5\n",
      "biceps     5\n",
      "forearm    4\n",
      "wrist      5\n",
      "\n",
      "Using median as measure of centre\n",
      "density    3\n",
      "bodyfat    3\n",
      "age        4\n",
      "weight     8\n",
      "height     5\n",
      "neck       6\n",
      "chest      7\n",
      "abdomen    6\n",
      "hip        6\n",
      "thigh      2\n",
      "knee       5\n",
      "ankle      7\n",
      "biceps     6\n",
      "forearm    3\n",
      "wrist      7\n",
      "\n"
     ]
    }
   ],
   "source": [
    "# 3\n",
    "print('3')\n",
    "bodyfat2_stds = bodyfat2.std()\n",
    "print(\"For each feature, the more values lie within 10% of standard deviation from the centre, the closer and less \"\n",
    "      \"spread out they are\")\n",
    "bodyfat2_num_within_10_percent_std_of_means = bodyfat2[(bodyfat2 >= bodyfat2_means - 0.1 * bodyfat2_stds)\n",
    "                                                       & (bodyfat2 <= bodyfat2_means + 0.1 * bodyfat2_stds)] \\\n",
    "    .count()\n",
    "print('Using mean as measure of centre')\n",
    "print(bodyfat2_num_within_10_percent_std_of_means.to_string())\n",
    "\n",
    "print()\n",
    "\n",
    "bodyfat2_num_within_10_percent_std_of_medians = bodyfat2[(bodyfat2 >= bodyfat2_medians - 0.1 * bodyfat2_stds)\n",
    "                                                         & (bodyfat2 <= bodyfat2_medians + 0.1 * bodyfat2_stds)] \\\n",
    "    .count()\n",
    "print('Using median as measure of centre')\n",
    "print(bodyfat2_num_within_10_percent_std_of_medians.to_string())\n",
    "\n",
    "print()\n",
    "#TODO: store result as a dataframe, add headers?"
   ]
  },
  {
   "cell_type": "code",
   "execution_count": 8,
   "metadata": {},
   "outputs": [
    {
     "name": "stdout",
     "output_type": "stream",
     "text": [
      "4\n",
      "Number of missing values for each feature, the higher the number, the more incomplete the data for the feature is\n",
      "Features with too many missing values should dropped\n",
      "density    0\n",
      "bodyfat    4\n",
      "age        0\n",
      "weight     7\n",
      "height     2\n",
      "neck       3\n",
      "chest      1\n",
      "abdomen    0\n",
      "hip        6\n",
      "thigh      3\n",
      "knee       1\n",
      "ankle      2\n",
      "biceps     4\n",
      "forearm    0\n",
      "wrist      2\n",
      "\n"
     ]
    }
   ],
   "source": [
    "# 4\n",
    "print('4')\n",
    "print('Number of missing values for each feature, the higher the number, the more incomplete the data for the'\n",
    "      ' feature is')\n",
    "print('Features with too many missing values should dropped')\n",
    "print(pd.isna(bodyfat3).sum().to_string())\n",
    "\n",
    "print()\n",
    "#TODO: store result as a dataframe, add headers?"
   ]
  },
  {
   "cell_type": "code",
   "execution_count": 9,
   "metadata": {},
   "outputs": [
    {
     "name": "stdout",
     "output_type": "stream",
     "text": [
      "5(a)\n",
      "Means from complete data - Means from incomplete data (imputation)\n",
      "density    0.000000\n",
      "bodyfat    0.536348\n",
      "age        0.000000\n",
      "weight    -1.001302\n",
      "height    -0.036667\n",
      "neck       0.139404\n",
      "chest      0.017796\n",
      "abdomen    0.000000\n",
      "hip       -0.410182\n",
      "thigh      0.193234\n",
      "knee       0.074939\n",
      "ankle     -0.034833\n",
      "biceps    -0.158522\n",
      "forearm    0.000000\n",
      "wrist     -0.013250\n",
      "\n"
     ]
    }
   ],
   "source": [
    "# 5(a)\n",
    "print('5(a)')\n",
    "# Find means of available values\n",
    "bodyfat3_means = bodyfat3.mean()\n",
    "# Impute with means\n",
    "bodyfat3b = bodyfat3.fillna(value=bodyfat3_means)\n",
    "# Recalculate even though should be same as bodyfat3_means\n",
    "bodyfat3b_means = bodyfat3b.mean()\n",
    "\n",
    "print('Means from complete data - Means from incomplete data (imputation)')\n",
    "print((bodyfat2_means - bodyfat3b_means).to_string())\n",
    "\n",
    "print()"
   ]
  },
  {
   "cell_type": "code",
   "execution_count": 10,
   "metadata": {},
   "outputs": [
    {
     "name": "stdout",
     "output_type": "stream",
     "text": [
      "5(b)\n",
      "Medians from complete data - Medians from incomplete data (imputation)\n",
      "density    0.000\n",
      "bodyfat    0.850\n",
      "age        0.000\n",
      "weight     0.875\n",
      "height     0.000\n",
      "neck       0.100\n",
      "chest      0.200\n",
      "abdomen    0.000\n",
      "hip       -1.100\n",
      "thigh      1.500\n",
      "knee       0.000\n",
      "ankle      0.000\n",
      "biceps    -0.050\n",
      "forearm    0.000\n",
      "wrist      0.000\n",
      "\n"
     ]
    }
   ],
   "source": [
    "# 5(b)\n",
    "print('5(b)')\n",
    "# Find medians of available values\n",
    "bodyfat3_medians = bodyfat3.median()\n",
    "# Impute with medians\n",
    "bodyfat3c = bodyfat3.fillna(value=bodyfat3_medians)\n",
    "# Recalculate even though should be same as bodyfat3_medians\n",
    "bodyfat3c_medians = bodyfat3c.median()\n",
    "\n",
    "print('Medians from complete data - Medians from incomplete data (imputation)')\n",
    "print((bodyfat2_medians - bodyfat3c_medians).to_string())\n",
    "\n",
    "print()"
   ]
  },
  {
   "cell_type": "code",
   "execution_count": 11,
   "metadata": {},
   "outputs": [
    {
     "name": "stdout",
     "output_type": "stream",
     "text": [
      "5(c)\n",
      "Imputation using means appears to be more accurate, closer to original results.\n",
      "Using means, only for weight was the difference greater than 1, and it was only by 0.001302.\n",
      "On the other hand, using medians, for both hip and thigh the difference exceeded 1.\n",
      "For hip and thigh, values are generally lower than weight, meaning the inaccuracy is more significant.\n",
      "\n"
     ]
    }
   ],
   "source": [
    "# 5(c)\n",
    "print('5(c)')\n",
    "print('Imputation using means appears to be more accurate, closer to original results.\\n'\n",
    "      'Using means, only for weight was the difference greater than 1, and it was only by 0.001302.\\n'\n",
    "      'On the other hand, using medians, for both hip and thigh the difference exceeded 1.\\n'\n",
    "      'For hip and thigh, values are generally lower than weight, meaning the inaccuracy is more significant.')\n",
    "\n",
    "print()\n"
   ]
  },
  {
   "cell_type": "code",
   "execution_count": 12,
   "metadata": {},
   "outputs": [
    {
     "name": "stdout",
     "output_type": "stream",
     "text": [
      "6(i)\n",
      "Normalised features for first 3 individuals\n",
      "    density   bodyfat       age    weight    height      neck     chest   abdomen       hip     thigh      knee     ankle    biceps   forearm     wrist\n",
      "0  0.561613 -0.567159 -1.268721 -0.720556 -0.893031 -0.552493 -0.756337 -0.474192 -0.722223 -0.373159 -0.527376 -0.742220 -0.215020 -0.666231 -0.901998\n",
      "1  1.217281 -1.197111 -1.387738 -0.248598  0.795473  0.147250 -0.709231 -0.625823 -0.320882 -0.417831 -0.527376 -0.081882 -0.619192  0.022024  0.072656\n",
      "2 -0.767810  0.753706 -1.387738 -0.726766 -1.455866 -1.221814 -0.501964 -0.288099 -0.273103 -0.283815  0.024850  0.182253 -1.077254 -1.675671 -1.345022\n",
      "Normalised features for last 3 individuals\n",
      "     density   bodyfat       age    weight    height      neck     chest   abdomen       hip     thigh      knee     ankle    biceps   forearm     wrist\n",
      "47  1.271543 -1.247913  0.635551 -0.863386  0.420250 -1.039272 -1.067238 -0.867054 -0.894227 -1.311268 -0.458348 -0.742220 -1.077254 -0.941533 -0.193159\n",
      "48  0.425958 -0.435073  1.349653 -1.180095 -0.611614 -1.586898 -0.831707 -0.598254 -1.114009 -1.415503 -1.045088 -1.314513 -1.077254 -1.538020 -1.610837\n",
      "49  1.443374 -1.410481  1.587687 -1.385024 -1.268254 -1.221814 -1.670197 -1.494255 -1.419793 -1.623971 -1.528286 -0.742220 -1.616150 -1.400369 -1.167813\n",
      "\n"
     ]
    }
   ],
   "source": [
    "# 6(i)\n",
    "print('6(i)')\n",
    "# Apply normalisation formula\n",
    "bodyfat2_normalized = (bodyfat2 - bodyfat2_means) / bodyfat2_stds\n",
    "print('Normalised features for first 3 individuals')\n",
    "print(bodyfat2_normalized.head(3).to_string())\n",
    "print('Normalised features for last 3 individuals')\n",
    "print(bodyfat2_normalized.tail(3).to_string())\n",
    "\n",
    "print()"
   ]
  },
  {
   "cell_type": "code",
   "execution_count": 13,
   "metadata": {},
   "outputs": [
    {
     "name": "stdout",
     "output_type": "stream",
     "text": [
      "6(ii)\n",
      "Number of people who are above average for the feature\n",
      "density    27\n",
      "bodyfat    23\n",
      "age        21\n",
      "weight     25\n",
      "height     23\n",
      "neck       26\n",
      "chest      25\n",
      "abdomen    21\n",
      "hip        22\n",
      "thigh      25\n",
      "knee       23\n",
      "ankle      21\n",
      "biceps     22\n",
      "forearm    27\n",
      "wrist      27\n"
     ]
    }
   ],
   "source": [
    "# 6(ii)\n",
    "print('6(ii)')\n",
    "bodyfat2_normalized_means = bodyfat2_normalized.mean()\n",
    "bodyfat2_normalized_greater_than_means = bodyfat2_normalized.gt(bodyfat2_normalized_means).sum()\n",
    "print('Number of people who are above average for the feature')\n",
    "print(bodyfat2_normalized_greater_than_means.to_string())"
   ]
  }
 ],
 "metadata": {
  "kernelspec": {
   "display_name": "Python 3",
   "language": "python",
   "name": "python3"
  },
  "language_info": {
   "codemirror_mode": {
    "name": "ipython",
    "version": 3
   },
   "file_extension": ".py",
   "mimetype": "text/x-python",
   "name": "python",
   "nbconvert_exporter": "python",
   "pygments_lexer": "ipython3",
   "version": "3.11.4"
  },
  "orig_nbformat": 4
 },
 "nbformat": 4,
 "nbformat_minor": 2
}
